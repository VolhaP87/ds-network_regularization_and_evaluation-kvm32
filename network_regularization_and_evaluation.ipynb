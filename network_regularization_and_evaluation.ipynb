{
  "cells": [
    {
      "cell_type": "markdown",
      "metadata": {
        "id": "view-in-github",
        "colab_type": "text"
      },
      "source": [
        "<a href=\"https://colab.research.google.com/github/VolhaP87/ds-network_regularization_and_evaluation-kvm32/blob/main/network_regularization_and_evaluation.ipynb\" target=\"_parent\"><img src=\"https://colab.research.google.com/assets/colab-badge.svg\" alt=\"Open In Colab\"/></a>"
      ]
    },
    {
      "cell_type": "markdown",
      "metadata": {
        "id": "dhx2YpI9UnCw"
      },
      "source": [
        "# Regularization and Evaluation of Neural Networks"
      ]
    },
    {
      "cell_type": "code",
      "execution_count": 1,
      "metadata": {
        "id": "t8BrK56GUnCx"
      },
      "outputs": [],
      "source": [
        "from sklearn.datasets import load_sample_images\n",
        "from sklearn.datasets import load_digits\n",
        "from sklearn.model_selection import train_test_split, cross_val_score\n",
        "from sklearn.preprocessing import OneHotEncoder\n",
        "from sklearn.metrics import accuracy_score, confusion_matrix\n",
        "import matplotlib.pyplot as plt\n",
        "import matplotlib.image as mpimg\n",
        "import numpy as np\n",
        "import seaborn as sns\n",
        "\n",
        "from tensorflow.keras.models import Sequential\n",
        "from tensorflow.keras.layers import Dense, Dropout\n",
        "from tensorflow.keras.regularizers import l2\n",
        "from tensorflow.keras.optimizers import SGD\n",
        "from tensorflow.keras.wrappers import scikit_learn\n",
        "from tensorflow.keras.callbacks import EarlyStopping\n",
        "\n",
        "import os\n",
        "import sys\n",
        "module_path = os.path.abspath(os.path.join(os.pardir, os.pardir))\n",
        "if module_path not in sys.path:\n",
        "    sys.path.append(module_path)\n",
        "    \n",
        "%load_ext autoreload\n",
        "%autoreload 2"
      ]
    },
    {
      "cell_type": "markdown",
      "metadata": {
        "id": "CjNo8f3EUnCy"
      },
      "source": [
        "## Learning Objectives\n",
        "\n",
        "- use `keras` to code up a neural network model;\n",
        "- explain dropout and early stopping as distinctive forms of regularization in neural networks;\n",
        "- use wrappers inside `keras` to make models that can jibe with `sklearn`."
      ]
    },
    {
      "cell_type": "markdown",
      "metadata": {
        "id": "M0GDe9aQUnCy"
      },
      "source": [
        "### From last time"
      ]
    },
    {
      "cell_type": "code",
      "execution_count": 2,
      "metadata": {
        "id": "0n5LXDIWUnCy"
      },
      "outputs": [],
      "source": [
        "digits = load_digits()\n",
        "X = digits.data\n",
        "y = digits.target\n",
        "\n",
        "y_binary = y % 2"
      ]
    },
    {
      "cell_type": "code",
      "execution_count": 3,
      "metadata": {
        "colab": {
          "base_uri": "https://localhost:8080/",
          "height": 0
        },
        "id": "I6Fgwco9UnCz",
        "outputId": "69a521f0-cd38-4909-b708-3cd6009ccc6b"
      },
      "outputs": [
        {
          "output_type": "stream",
          "name": "stdout",
          "text": [
            "Epoch 1/50\n",
            "180/180 [==============================] - 1s 2ms/step - loss: 0.5440 - accuracy: 0.7184\n",
            "Epoch 2/50\n",
            "180/180 [==============================] - 0s 2ms/step - loss: 0.2988 - accuracy: 0.8742\n",
            "Epoch 3/50\n",
            "180/180 [==============================] - 0s 2ms/step - loss: 0.2072 - accuracy: 0.9221\n",
            "Epoch 4/50\n",
            "180/180 [==============================] - 0s 2ms/step - loss: 0.1647 - accuracy: 0.9377\n",
            "Epoch 5/50\n",
            "180/180 [==============================] - 0s 2ms/step - loss: 0.1315 - accuracy: 0.9494\n",
            "Epoch 6/50\n",
            "180/180 [==============================] - 0s 2ms/step - loss: 0.1108 - accuracy: 0.9544\n",
            "Epoch 7/50\n",
            "180/180 [==============================] - 0s 2ms/step - loss: 0.0952 - accuracy: 0.9610\n",
            "Epoch 8/50\n",
            "180/180 [==============================] - 0s 2ms/step - loss: 0.0827 - accuracy: 0.9683\n",
            "Epoch 9/50\n",
            "180/180 [==============================] - 0s 2ms/step - loss: 0.0746 - accuracy: 0.9688\n",
            "Epoch 10/50\n",
            "180/180 [==============================] - 0s 2ms/step - loss: 0.0680 - accuracy: 0.9738\n",
            "Epoch 11/50\n",
            "180/180 [==============================] - 0s 2ms/step - loss: 0.0608 - accuracy: 0.9783\n",
            "Epoch 12/50\n",
            "180/180 [==============================] - 0s 2ms/step - loss: 0.0554 - accuracy: 0.9766\n",
            "Epoch 13/50\n",
            "180/180 [==============================] - 0s 2ms/step - loss: 0.0470 - accuracy: 0.9783\n",
            "Epoch 14/50\n",
            "180/180 [==============================] - 0s 2ms/step - loss: 0.0477 - accuracy: 0.9811\n",
            "Epoch 15/50\n",
            "180/180 [==============================] - 0s 2ms/step - loss: 0.0423 - accuracy: 0.9844\n",
            "Epoch 16/50\n",
            "180/180 [==============================] - 0s 2ms/step - loss: 0.0421 - accuracy: 0.9839\n",
            "Epoch 17/50\n",
            "180/180 [==============================] - 0s 2ms/step - loss: 0.0372 - accuracy: 0.9861\n",
            "Epoch 18/50\n",
            "180/180 [==============================] - 0s 2ms/step - loss: 0.0346 - accuracy: 0.9850\n",
            "Epoch 19/50\n",
            "180/180 [==============================] - 0s 2ms/step - loss: 0.0338 - accuracy: 0.9872\n",
            "Epoch 20/50\n",
            "180/180 [==============================] - 0s 2ms/step - loss: 0.0313 - accuracy: 0.9889\n",
            "Epoch 21/50\n",
            "180/180 [==============================] - 0s 2ms/step - loss: 0.0286 - accuracy: 0.9894\n",
            "Epoch 22/50\n",
            "180/180 [==============================] - 0s 2ms/step - loss: 0.0293 - accuracy: 0.9883\n",
            "Epoch 23/50\n",
            "180/180 [==============================] - 0s 2ms/step - loss: 0.0246 - accuracy: 0.9917\n",
            "Epoch 24/50\n",
            "180/180 [==============================] - 0s 2ms/step - loss: 0.0239 - accuracy: 0.9900\n",
            "Epoch 25/50\n",
            "180/180 [==============================] - 0s 2ms/step - loss: 0.0239 - accuracy: 0.9900\n",
            "Epoch 26/50\n",
            "180/180 [==============================] - 0s 2ms/step - loss: 0.0234 - accuracy: 0.9922\n",
            "Epoch 27/50\n",
            "180/180 [==============================] - 0s 2ms/step - loss: 0.0203 - accuracy: 0.9917\n",
            "Epoch 28/50\n",
            "180/180 [==============================] - 0s 2ms/step - loss: 0.0204 - accuracy: 0.9922\n",
            "Epoch 29/50\n",
            "180/180 [==============================] - 0s 2ms/step - loss: 0.0199 - accuracy: 0.9939\n",
            "Epoch 30/50\n",
            "180/180 [==============================] - 0s 2ms/step - loss: 0.0172 - accuracy: 0.9944\n",
            "Epoch 31/50\n",
            "180/180 [==============================] - 0s 2ms/step - loss: 0.0170 - accuracy: 0.9933\n",
            "Epoch 32/50\n",
            "180/180 [==============================] - 0s 2ms/step - loss: 0.0135 - accuracy: 0.9961\n",
            "Epoch 33/50\n",
            "180/180 [==============================] - 0s 2ms/step - loss: 0.0141 - accuracy: 0.9955\n",
            "Epoch 34/50\n",
            "180/180 [==============================] - 0s 2ms/step - loss: 0.0161 - accuracy: 0.9961\n",
            "Epoch 35/50\n",
            "180/180 [==============================] - 0s 2ms/step - loss: 0.0130 - accuracy: 0.9972\n",
            "Epoch 36/50\n",
            "180/180 [==============================] - 0s 2ms/step - loss: 0.0133 - accuracy: 0.9950\n",
            "Epoch 37/50\n",
            "180/180 [==============================] - 0s 2ms/step - loss: 0.0135 - accuracy: 0.9972\n",
            "Epoch 38/50\n",
            "180/180 [==============================] - 0s 2ms/step - loss: 0.0109 - accuracy: 0.9967\n",
            "Epoch 39/50\n",
            "180/180 [==============================] - 0s 2ms/step - loss: 0.0123 - accuracy: 0.9955\n",
            "Epoch 40/50\n",
            "180/180 [==============================] - 0s 2ms/step - loss: 0.0109 - accuracy: 0.9961\n",
            "Epoch 41/50\n",
            "180/180 [==============================] - 0s 2ms/step - loss: 0.0095 - accuracy: 0.9972\n",
            "Epoch 42/50\n",
            "180/180 [==============================] - 0s 2ms/step - loss: 0.0103 - accuracy: 0.9961\n",
            "Epoch 43/50\n",
            "180/180 [==============================] - 0s 2ms/step - loss: 0.0094 - accuracy: 0.9955\n",
            "Epoch 44/50\n",
            "180/180 [==============================] - 0s 2ms/step - loss: 0.0096 - accuracy: 0.9967\n",
            "Epoch 45/50\n",
            "180/180 [==============================] - 0s 2ms/step - loss: 0.0077 - accuracy: 0.9955\n",
            "Epoch 46/50\n",
            "180/180 [==============================] - 0s 2ms/step - loss: 0.0085 - accuracy: 0.9967\n",
            "Epoch 47/50\n",
            "180/180 [==============================] - 0s 2ms/step - loss: 0.0084 - accuracy: 0.9967\n",
            "Epoch 48/50\n",
            "180/180 [==============================] - 0s 2ms/step - loss: 0.0075 - accuracy: 0.9961\n",
            "Epoch 49/50\n",
            "180/180 [==============================] - 0s 2ms/step - loss: 0.0062 - accuracy: 0.9983\n",
            "Epoch 50/50\n",
            "180/180 [==============================] - 0s 2ms/step - loss: 0.0070 - accuracy: 0.9983\n"
          ]
        },
        {
          "output_type": "execute_result",
          "data": {
            "text/plain": [
              "<keras.callbacks.History at 0x7f06fe785090>"
            ]
          },
          "metadata": {},
          "execution_count": 3
        }
      ],
      "source": [
        "model = Sequential()\n",
        "model.add(Dense(12, activation='relu', input_dim=64))\n",
        "model.add(Dense(8, activation='relu'))\n",
        "model.add(Dense(1, activation='sigmoid'))\n",
        "\n",
        "model.compile(optimizer='rmsprop',\n",
        "              loss='binary_crossentropy',\n",
        "              metrics=['accuracy'])\n",
        "\n",
        "model.fit(X, y_binary, epochs=50, batch_size=10)"
      ]
    },
    {
      "cell_type": "markdown",
      "metadata": {
        "id": "nNDDy8t6UnCz"
      },
      "source": [
        "### Things to know:\n",
        "\n",
        "- The data and labels in `fit()` need to be numpy arrays, not `pandas` dfs.\n",
        "- Scaling your data will have a large impact on your model.\n",
        "   > For our traditional input features, we would use a scaler object. For images, as long as the minimum value is 0, we can simply divide through by the maximum pixel intensity."
      ]
    },
    {
      "cell_type": "markdown",
      "metadata": {
        "id": "WJp7n4UyUnC0"
      },
      "source": [
        "#### Getting data ready for modeling\n",
        "**Preprocessing**:\n",
        "\n",
        "- use train_test_split to create X_train, y_train, X_test, and y_test\n",
        "- Split training data into pure_train and validation sets.\n",
        "- Scale the pixel intensity to a value between 0 and 1."
      ]
    },
    {
      "cell_type": "markdown",
      "metadata": {
        "id": "isYwN1xPUnC0"
      },
      "source": [
        "Scaling our input variables will help speed up our neural network.\n",
        "\n",
        "Since our minimum intensity is 0, we can normalize the inputs by dividing each value by the max value (16)."
      ]
    },
    {
      "cell_type": "code",
      "execution_count": 4,
      "metadata": {
        "id": "ub5g2XO0UnC0"
      },
      "outputs": [],
      "source": [
        "X_train, X_test, y_train, y_test =\\\n",
        "    train_test_split(X, y_binary, random_state=42, test_size=0.2)\n",
        "\n",
        "X_pure_train, X_val, y_pure_train, y_val =\\\n",
        "    train_test_split(X_train, y_train, random_state=42, test_size=0.2)\n",
        "\n",
        "X_pure_train, X_val, X_test = X_pure_train/16, X_val/16, X_test/16"
      ]
    },
    {
      "cell_type": "markdown",
      "metadata": {
        "id": "lYdpJEJXUnC0"
      },
      "source": [
        "For activation, let's start with the familiar sigmoid function, and see how it performs."
      ]
    },
    {
      "cell_type": "code",
      "execution_count": 5,
      "metadata": {
        "colab": {
          "base_uri": "https://localhost:8080/",
          "height": 0
        },
        "id": "gkjVIWevUnC1",
        "outputId": "0cec0594-adde-4d6e-b1d6-2d0e05f35aec"
      },
      "outputs": [
        {
          "output_type": "stream",
          "name": "stdout",
          "text": [
            "Epoch 1/10\n",
            "12/12 [==============================] - 1s 4ms/step - loss: 0.7242 - accuracy: 0.4961\n",
            "Epoch 2/10\n",
            "12/12 [==============================] - 0s 2ms/step - loss: 0.7189 - accuracy: 0.4961\n",
            "Epoch 3/10\n",
            "12/12 [==============================] - 0s 2ms/step - loss: 0.7144 - accuracy: 0.4961\n",
            "Epoch 4/10\n",
            "12/12 [==============================] - 0s 2ms/step - loss: 0.7110 - accuracy: 0.4961\n",
            "Epoch 5/10\n",
            "12/12 [==============================] - 0s 4ms/step - loss: 0.7080 - accuracy: 0.4961\n",
            "Epoch 6/10\n",
            "12/12 [==============================] - 0s 2ms/step - loss: 0.7055 - accuracy: 0.4961\n",
            "Epoch 7/10\n",
            "12/12 [==============================] - 0s 3ms/step - loss: 0.7037 - accuracy: 0.4961\n",
            "Epoch 8/10\n",
            "12/12 [==============================] - 0s 2ms/step - loss: 0.7020 - accuracy: 0.4961\n",
            "Epoch 9/10\n",
            "12/12 [==============================] - 0s 3ms/step - loss: 0.7009 - accuracy: 0.4961\n",
            "Epoch 10/10\n",
            "12/12 [==============================] - 0s 3ms/step - loss: 0.6997 - accuracy: 0.4961\n"
          ]
        }
      ],
      "source": [
        "model = Sequential()\n",
        "# We will start with our trusty sigmoid function.\n",
        "# What does input dimension correspond to?\n",
        "model.add(Dense(12, activation='sigmoid', input_dim=64))\n",
        "model.add(Dense(8, activation='sigmoid'))\n",
        "model.add(Dense(1, activation='sigmoid'))\n",
        "\n",
        "model.compile(optimizer='SGD' ,\n",
        "              # We use binary_crossentropy for a binary loss function\n",
        "              loss='binary_crossentropy',\n",
        "              metrics=['accuracy'])\n",
        "\n",
        "# Assign the variable history to store the results,\n",
        "# and set verbose=1 so we can see the output. To see\n",
        "# only the metrics at the end of each epoch, set verbose=2.\n",
        "results = model.fit(X_pure_train, y_pure_train, epochs=10, batch_size=100, verbose=1)"
      ]
    },
    {
      "cell_type": "markdown",
      "metadata": {
        "id": "bMbzqvsoUnC1"
      },
      "source": [
        "We can access the history of our model via `results.history`.\n",
        "Use __dict__ to take a tour."
      ]
    },
    {
      "cell_type": "code",
      "execution_count": 6,
      "metadata": {
        "colab": {
          "base_uri": "https://localhost:8080/",
          "height": 0
        },
        "id": "flFUPtK1UnC1",
        "outputId": "316d5f1f-31fd-4f85-ba29-4be19150be26"
      },
      "outputs": [
        {
          "output_type": "execute_result",
          "data": {
            "text/plain": [
              "{'_chief_worker_only': None,\n",
              " '_supports_tf_logs': False,\n",
              " 'epoch': [0, 1, 2, 3, 4, 5, 6, 7, 8, 9],\n",
              " 'history': {'accuracy': [0.4960835576057434,\n",
              "   0.4960835576057434,\n",
              "   0.4960835576057434,\n",
              "   0.4960835576057434,\n",
              "   0.4960835576057434,\n",
              "   0.4960835576057434,\n",
              "   0.4960835576057434,\n",
              "   0.4960835576057434,\n",
              "   0.4960835576057434,\n",
              "   0.4960835576057434],\n",
              "  'loss': [0.7242348194122314,\n",
              "   0.7188944220542908,\n",
              "   0.714432954788208,\n",
              "   0.7109679579734802,\n",
              "   0.70802241563797,\n",
              "   0.705524206161499,\n",
              "   0.7036970257759094,\n",
              "   0.7020385265350342,\n",
              "   0.7008557915687561,\n",
              "   0.699735701084137]},\n",
              " 'model': <keras.engine.sequential.Sequential at 0x7f06fe665190>,\n",
              " 'params': {'epochs': 10, 'steps': 12, 'verbose': 1},\n",
              " 'validation_data': None}"
            ]
          },
          "metadata": {},
          "execution_count": 6
        }
      ],
      "source": [
        "results.__dict__"
      ]
    },
    {
      "cell_type": "code",
      "execution_count": 7,
      "metadata": {
        "colab": {
          "base_uri": "https://localhost:8080/",
          "height": 320
        },
        "id": "yOP_LykoUnC1",
        "outputId": "b3c220d6-ac0e-4359-e0cb-f1928140a4a0"
      },
      "outputs": [
        {
          "output_type": "display_data",
          "data": {
            "text/plain": [
              "<Figure size 720x360 with 2 Axes>"
            ],
            "image/png": "[encoded data removed]"
          },
          "metadata": {
            "needs_background": "light"
          }
        }
      ],
      "source": [
        "sigmoid_loss = results.history['loss']\n",
        "sigmoid_accuracy = results.history['accuracy']\n",
        "\n",
        "fig, (ax1, ax2) = plt.subplots(1, 2, figsize=(10, 5))\n",
        "sns.lineplot(x=results.epoch, y=sigmoid_loss, ax=ax1, label='loss')\n",
        "sns.lineplot(x=results.epoch, y=sigmoid_accuracy, ax=ax2, label='accuracy');"
      ]
    },
    {
      "cell_type": "markdown",
      "metadata": {
        "id": "cq9MD_hAUnC1"
      },
      "source": [
        "We have two plots above both relating to the quality of our model.  The left-hand plot is our loss. It uses the probabilities associated with our predictions to judge how well our prediction fits reality. We want it to decrease as far as possible.\n",
        "\n",
        "The accuracy judges how well the predictions are after applying the threshold at the output layer.  We want accuracy to increase."
      ]
    },
    {
      "cell_type": "markdown",
      "metadata": {
        "id": "2PnmfmefUnC1"
      },
      "source": [
        "If we look at our loss, it is still decreasing. That is a signal that our model is **still learning**. If our model is still learning, we can allow it to get better by turning a few dials.\n",
        "\n",
        "Let's:\n",
        "- increase the number of epochs;\n",
        "- change sigmoid activation in the hidden layers to ReLU; and\n",
        "- decrease the batch size."
      ]
    },
    {
      "cell_type": "code",
      "execution_count": 8,
      "metadata": {
        "colab": {
          "base_uri": "https://localhost:8080/",
          "height": 0
        },
        "id": "vSdM0vrGUnC2",
        "outputId": "effe258f-e90b-45bd-e374-d73c38ebd82d"
      },
      "outputs": [
        {
          "output_type": "execute_result",
          "data": {
            "text/plain": [
              "1149"
            ]
          },
          "metadata": {},
          "execution_count": 8
        }
      ],
      "source": [
        "X_pure_train.shape[0]"
      ]
    },
    {
      "cell_type": "code",
      "execution_count": 9,
      "metadata": {
        "colab": {
          "base_uri": "https://localhost:8080/",
          "height": 0
        },
        "id": "DKORwDSmUnC2",
        "outputId": "1e33ac8f-36b4-45d6-d294-ebbc91d1d355"
      },
      "outputs": [
        {
          "output_type": "stream",
          "name": "stdout",
          "text": [
            "Epoch 1/100\n",
            "36/36 [==============================] - 1s 2ms/step - loss: 0.7087 - accuracy: 0.4386\n",
            "Epoch 2/100\n",
            "36/36 [==============================] - 0s 2ms/step - loss: 0.6980 - accuracy: 0.4943\n",
            "Epoch 3/100\n",
            "36/36 [==============================] - 0s 2ms/step - loss: 0.6917 - accuracy: 0.5326\n",
            "Epoch 4/100\n",
            "36/36 [==============================] - 0s 3ms/step - loss: 0.6860 - accuracy: 0.5953\n",
            "Epoch 5/100\n",
            "36/36 [==============================] - 0s 2ms/step - loss: 0.6795 - accuracy: 0.6179\n",
            "Epoch 6/100\n",
            "36/36 [==============================] - 0s 2ms/step - loss: 0.6726 - accuracy: 0.6266\n",
            "Epoch 7/100\n",
            "36/36 [==============================] - 0s 2ms/step - loss: 0.6654 - accuracy: 0.6493\n",
            "Epoch 8/100\n",
            "36/36 [==============================] - 0s 3ms/step - loss: 0.6575 - accuracy: 0.6780\n",
            "Epoch 9/100\n",
            "36/36 [==============================] - 0s 2ms/step - loss: 0.6481 - accuracy: 0.6876\n",
            "Epoch 10/100\n",
            "36/36 [==============================] - 0s 3ms/step - loss: 0.6377 - accuracy: 0.7163\n",
            "Epoch 11/100\n",
            "36/36 [==============================] - 0s 2ms/step - loss: 0.6260 - accuracy: 0.7180\n",
            "Epoch 12/100\n",
            "36/36 [==============================] - 0s 2ms/step - loss: 0.6129 - accuracy: 0.7346\n",
            "Epoch 13/100\n",
            "36/36 [==============================] - 0s 2ms/step - loss: 0.5983 - accuracy: 0.7380\n",
            "Epoch 14/100\n",
            "36/36 [==============================] - 0s 2ms/step - loss: 0.5827 - accuracy: 0.7476\n",
            "Epoch 15/100\n",
            "36/36 [==============================] - 0s 2ms/step - loss: 0.5658 - accuracy: 0.7624\n",
            "Epoch 16/100\n",
            "36/36 [==============================] - 0s 2ms/step - loss: 0.5476 - accuracy: 0.7711\n",
            "Epoch 17/100\n",
            "36/36 [==============================] - 0s 2ms/step - loss: 0.5282 - accuracy: 0.7824\n",
            "Epoch 18/100\n",
            "36/36 [==============================] - 0s 2ms/step - loss: 0.5083 - accuracy: 0.7911\n",
            "Epoch 19/100\n",
            "36/36 [==============================] - 0s 2ms/step - loss: 0.4884 - accuracy: 0.8007\n",
            "Epoch 20/100\n",
            "36/36 [==============================] - 0s 3ms/step - loss: 0.4693 - accuracy: 0.8155\n",
            "Epoch 21/100\n",
            "36/36 [==============================] - 0s 2ms/step - loss: 0.4500 - accuracy: 0.8233\n",
            "Epoch 22/100\n",
            "36/36 [==============================] - 0s 2ms/step - loss: 0.4334 - accuracy: 0.8303\n",
            "Epoch 23/100\n",
            "36/36 [==============================] - 0s 2ms/step - loss: 0.4163 - accuracy: 0.8329\n",
            "Epoch 24/100\n",
            "36/36 [==============================] - 0s 2ms/step - loss: 0.4013 - accuracy: 0.8416\n",
            "Epoch 25/100\n",
            "36/36 [==============================] - 0s 2ms/step - loss: 0.3870 - accuracy: 0.8494\n",
            "Epoch 26/100\n",
            "36/36 [==============================] - 0s 2ms/step - loss: 0.3740 - accuracy: 0.8520\n",
            "Epoch 27/100\n",
            "36/36 [==============================] - 0s 2ms/step - loss: 0.3613 - accuracy: 0.8616\n",
            "Epoch 28/100\n",
            "36/36 [==============================] - 0s 2ms/step - loss: 0.3500 - accuracy: 0.8642\n",
            "Epoch 29/100\n",
            "36/36 [==============================] - 0s 2ms/step - loss: 0.3396 - accuracy: 0.8686\n",
            "Epoch 30/100\n",
            "36/36 [==============================] - 0s 2ms/step - loss: 0.3304 - accuracy: 0.8729\n",
            "Epoch 31/100\n",
            "36/36 [==============================] - 0s 2ms/step - loss: 0.3218 - accuracy: 0.8764\n",
            "Epoch 32/100\n",
            "36/36 [==============================] - 0s 2ms/step - loss: 0.3139 - accuracy: 0.8773\n",
            "Epoch 33/100\n",
            "36/36 [==============================] - 0s 2ms/step - loss: 0.3066 - accuracy: 0.8773\n",
            "Epoch 34/100\n",
            "36/36 [==============================] - 0s 2ms/step - loss: 0.2995 - accuracy: 0.8825\n",
            "Epoch 35/100\n",
            "36/36 [==============================] - 0s 2ms/step - loss: 0.2937 - accuracy: 0.8851\n",
            "Epoch 36/100\n",
            "36/36 [==============================] - 0s 2ms/step - loss: 0.2877 - accuracy: 0.8825\n",
            "Epoch 37/100\n",
            "36/36 [==============================] - 0s 2ms/step - loss: 0.2816 - accuracy: 0.8877\n",
            "Epoch 38/100\n",
            "36/36 [==============================] - 0s 2ms/step - loss: 0.2765 - accuracy: 0.8921\n",
            "Epoch 39/100\n",
            "36/36 [==============================] - 0s 2ms/step - loss: 0.2710 - accuracy: 0.8903\n",
            "Epoch 40/100\n",
            "36/36 [==============================] - 0s 2ms/step - loss: 0.2664 - accuracy: 0.8895\n",
            "Epoch 41/100\n",
            "36/36 [==============================] - 0s 2ms/step - loss: 0.2617 - accuracy: 0.8956\n",
            "Epoch 42/100\n",
            "36/36 [==============================] - 0s 2ms/step - loss: 0.2578 - accuracy: 0.8964\n",
            "Epoch 43/100\n",
            "36/36 [==============================] - 0s 3ms/step - loss: 0.2538 - accuracy: 0.8947\n",
            "Epoch 44/100\n",
            "36/36 [==============================] - 0s 2ms/step - loss: 0.2509 - accuracy: 0.8964\n",
            "Epoch 45/100\n",
            "36/36 [==============================] - 0s 2ms/step - loss: 0.2464 - accuracy: 0.8973\n",
            "Epoch 46/100\n",
            "36/36 [==============================] - 0s 2ms/step - loss: 0.2427 - accuracy: 0.9017\n",
            "Epoch 47/100\n",
            "36/36 [==============================] - 0s 2ms/step - loss: 0.2406 - accuracy: 0.8973\n",
            "Epoch 48/100\n",
            "36/36 [==============================] - 0s 2ms/step - loss: 0.2384 - accuracy: 0.8990\n",
            "Epoch 49/100\n",
            "36/36 [==============================] - 0s 2ms/step - loss: 0.2351 - accuracy: 0.9025\n",
            "Epoch 50/100\n",
            "36/36 [==============================] - 0s 2ms/step - loss: 0.2316 - accuracy: 0.9025\n",
            "Epoch 51/100\n",
            "36/36 [==============================] - 0s 2ms/step - loss: 0.2319 - accuracy: 0.9008\n",
            "Epoch 52/100\n",
            "36/36 [==============================] - 0s 2ms/step - loss: 0.2285 - accuracy: 0.9069\n",
            "Epoch 53/100\n",
            "36/36 [==============================] - 0s 2ms/step - loss: 0.2260 - accuracy: 0.9069\n",
            "Epoch 54/100\n",
            "36/36 [==============================] - 0s 2ms/step - loss: 0.2246 - accuracy: 0.9051\n",
            "Epoch 55/100\n",
            "36/36 [==============================] - 0s 2ms/step - loss: 0.2220 - accuracy: 0.9069\n",
            "Epoch 56/100\n",
            "36/36 [==============================] - 0s 3ms/step - loss: 0.2206 - accuracy: 0.9121\n",
            "Epoch 57/100\n",
            "36/36 [==============================] - 0s 2ms/step - loss: 0.2182 - accuracy: 0.9095\n",
            "Epoch 58/100\n",
            "36/36 [==============================] - 0s 2ms/step - loss: 0.2174 - accuracy: 0.9077\n",
            "Epoch 59/100\n",
            "36/36 [==============================] - 0s 2ms/step - loss: 0.2160 - accuracy: 0.9069\n",
            "Epoch 60/100\n",
            "36/36 [==============================] - 0s 2ms/step - loss: 0.2144 - accuracy: 0.9069\n",
            "Epoch 61/100\n",
            "36/36 [==============================] - 0s 2ms/step - loss: 0.2135 - accuracy: 0.9069\n",
            "Epoch 62/100\n",
            "36/36 [==============================] - 0s 2ms/step - loss: 0.2110 - accuracy: 0.9077\n",
            "Epoch 63/100\n",
            "36/36 [==============================] - 0s 3ms/step - loss: 0.2112 - accuracy: 0.9095\n",
            "Epoch 64/100\n",
            "36/36 [==============================] - 0s 2ms/step - loss: 0.2098 - accuracy: 0.9086\n",
            "Epoch 65/100\n",
            "36/36 [==============================] - 0s 2ms/step - loss: 0.2076 - accuracy: 0.9130\n",
            "Epoch 66/100\n",
            "36/36 [==============================] - 0s 2ms/step - loss: 0.2071 - accuracy: 0.9112\n",
            "Epoch 67/100\n",
            "36/36 [==============================] - 0s 2ms/step - loss: 0.2062 - accuracy: 0.9112\n",
            "Epoch 68/100\n",
            "36/36 [==============================] - 0s 2ms/step - loss: 0.2056 - accuracy: 0.9112\n",
            "Epoch 69/100\n",
            "36/36 [==============================] - 0s 2ms/step - loss: 0.2033 - accuracy: 0.9138\n",
            "Epoch 70/100\n",
            "36/36 [==============================] - 0s 2ms/step - loss: 0.2018 - accuracy: 0.9112\n",
            "Epoch 71/100\n",
            "36/36 [==============================] - 0s 2ms/step - loss: 0.2012 - accuracy: 0.9121\n",
            "Epoch 72/100\n",
            "36/36 [==============================] - 0s 2ms/step - loss: 0.1997 - accuracy: 0.9156\n",
            "Epoch 73/100\n",
            "36/36 [==============================] - 0s 2ms/step - loss: 0.1995 - accuracy: 0.9130\n",
            "Epoch 74/100\n",
            "36/36 [==============================] - 0s 2ms/step - loss: 0.1997 - accuracy: 0.9147\n",
            "Epoch 75/100\n",
            "36/36 [==============================] - 0s 2ms/step - loss: 0.1972 - accuracy: 0.9138\n",
            "Epoch 76/100\n",
            "36/36 [==============================] - 0s 2ms/step - loss: 0.1978 - accuracy: 0.9138\n",
            "Epoch 77/100\n",
            "36/36 [==============================] - 0s 2ms/step - loss: 0.1966 - accuracy: 0.9121\n",
            "Epoch 78/100\n",
            "36/36 [==============================] - 0s 2ms/step - loss: 0.1939 - accuracy: 0.9164\n",
            "Epoch 79/100\n",
            "36/36 [==============================] - 0s 2ms/step - loss: 0.1947 - accuracy: 0.9147\n",
            "Epoch 80/100\n",
            "36/36 [==============================] - 0s 2ms/step - loss: 0.1922 - accuracy: 0.9164\n",
            "Epoch 81/100\n",
            "36/36 [==============================] - 0s 2ms/step - loss: 0.1918 - accuracy: 0.9147\n",
            "Epoch 82/100\n",
            "36/36 [==============================] - 0s 2ms/step - loss: 0.1908 - accuracy: 0.9164\n",
            "Epoch 83/100\n",
            "36/36 [==============================] - 0s 2ms/step - loss: 0.1900 - accuracy: 0.9156\n",
            "Epoch 84/100\n",
            "36/36 [==============================] - 0s 2ms/step - loss: 0.1890 - accuracy: 0.9130\n",
            "Epoch 85/100\n",
            "36/36 [==============================] - 0s 2ms/step - loss: 0.1889 - accuracy: 0.9173\n",
            "Epoch 86/100\n",
            "36/36 [==============================] - 0s 2ms/step - loss: 0.1866 - accuracy: 0.9199\n",
            "Epoch 87/100\n",
            "36/36 [==============================] - 0s 2ms/step - loss: 0.1854 - accuracy: 0.9191\n",
            "Epoch 88/100\n",
            "36/36 [==============================] - 0s 2ms/step - loss: 0.1843 - accuracy: 0.9191\n",
            "Epoch 89/100\n",
            "36/36 [==============================] - 0s 2ms/step - loss: 0.1827 - accuracy: 0.9199\n",
            "Epoch 90/100\n",
            "36/36 [==============================] - 0s 2ms/step - loss: 0.1833 - accuracy: 0.9191\n",
            "Epoch 91/100\n",
            "36/36 [==============================] - 0s 2ms/step - loss: 0.1822 - accuracy: 0.9173\n",
            "Epoch 92/100\n",
            "36/36 [==============================] - 0s 2ms/step - loss: 0.1804 - accuracy: 0.9208\n",
            "Epoch 93/100\n",
            "36/36 [==============================] - 0s 2ms/step - loss: 0.1777 - accuracy: 0.9191\n",
            "Epoch 94/100\n",
            "36/36 [==============================] - 0s 2ms/step - loss: 0.1786 - accuracy: 0.9173\n",
            "Epoch 95/100\n",
            "36/36 [==============================] - 0s 2ms/step - loss: 0.1772 - accuracy: 0.9191\n",
            "Epoch 96/100\n",
            "36/36 [==============================] - 0s 2ms/step - loss: 0.1761 - accuracy: 0.9217\n",
            "Epoch 97/100\n",
            "36/36 [==============================] - 0s 2ms/step - loss: 0.1750 - accuracy: 0.9260\n",
            "Epoch 98/100\n",
            "36/36 [==============================] - 0s 2ms/step - loss: 0.1733 - accuracy: 0.9217\n",
            "Epoch 99/100\n",
            "36/36 [==============================] - 0s 2ms/step - loss: 0.1731 - accuracy: 0.9243\n",
            "Epoch 100/100\n",
            "36/36 [==============================] - 0s 2ms/step - loss: 0.1713 - accuracy: 0.9182\n"
          ]
        }
      ],
      "source": [
        "model = Sequential()\n",
        "model.add(Dense(12, activation='relu', input_dim=64))\n",
        "model.add(Dense(8, activation='relu'))\n",
        "model.add(Dense(1, activation='sigmoid'))\n",
        "\n",
        "model.compile(optimizer='SGD',\n",
        "              loss='binary_crossentropy',\n",
        "              metrics=['accuracy'])\n",
        "\n",
        "# Assign the variable history to store the results,\n",
        "# and set verbose=1 so we can see the output.\n",
        "results = model.fit(X_pure_train, y_pure_train, epochs=100, batch_size=None, verbose=1)"
      ]
    },
    {
      "cell_type": "code",
      "execution_count": 10,
      "metadata": {
        "colab": {
          "base_uri": "https://localhost:8080/",
          "height": 320
        },
        "id": "ix7qvHAGUnC2",
        "outputId": "e34e84d0-00c4-4fc9-dd42-4b17c480eeaf"
      },
      "outputs": [
        {
          "output_type": "display_data",
          "data": {
            "text/plain": [
              "<Figure size 720x360 with 2 Axes>"
            ],
            "image/png": "[encoded data removed]"
          },
          "metadata": {
            "needs_background": "light"
          }
        }
      ],
      "source": [
        "sigmoid_loss = results.history['loss']\n",
        "sigmoid_accuracy = results.history['accuracy']\n",
        "\n",
        "fig, (ax1, ax2) = plt.subplots(1,2, figsize=(10,5))\n",
        "sns.lineplot(x=results.epoch, y=sigmoid_loss, ax=ax1, label='loss')\n",
        "sns.lineplot(x=results.epoch, y=sigmoid_accuracy, ax=ax2, label='accuracy');"
      ]
    },
    {
      "cell_type": "markdown",
      "metadata": {
        "id": "0actti2AUnC2"
      },
      "source": [
        "If we increase the learning rate to a very high number, we see that our model overshoots the minimum, and starts bouncing all around."
      ]
    },
    {
      "cell_type": "code",
      "execution_count": 11,
      "metadata": {
        "colab": {
          "base_uri": "https://localhost:8080/",
          "height": 1309
        },
        "id": "wkDMiHwZUnC2",
        "outputId": "6dfa7a0d-26e4-4308-d361-dbd8ec6ff453"
      },
      "outputs": [
        {
          "output_type": "stream",
          "name": "stdout",
          "text": [
            "Epoch 1/30\n"
          ]
        },
        {
          "output_type": "stream",
          "name": "stderr",
          "text": [
            "/usr/local/lib/python3.7/dist-packages/keras/optimizer_v2/gradient_descent.py:102: UserWarning: The `lr` argument is deprecated, use `learning_rate` instead.\n",
            "  super(SGD, self).__init__(name, **kwargs)\n"
          ]
        },
        {
          "output_type": "stream",
          "name": "stdout",
          "text": [
            "115/115 [==============================] - 1s 2ms/step - loss: 10776.1162 - accuracy: 0.5100\n",
            "Epoch 2/30\n",
            "115/115 [==============================] - 0s 2ms/step - loss: 1.0100 - accuracy: 0.4943\n",
            "Epoch 3/30\n",
            "115/115 [==============================] - 0s 2ms/step - loss: 0.9525 - accuracy: 0.4987\n",
            "Epoch 4/30\n",
            "115/115 [==============================] - 0s 2ms/step - loss: 1.0610 - accuracy: 0.4813\n",
            "Epoch 5/30\n",
            "115/115 [==============================] - 0s 2ms/step - loss: 0.9928 - accuracy: 0.5022\n",
            "Epoch 6/30\n",
            "115/115 [==============================] - 0s 2ms/step - loss: 1.0176 - accuracy: 0.5004\n",
            "Epoch 7/30\n",
            "115/115 [==============================] - 0s 2ms/step - loss: 0.9227 - accuracy: 0.5126\n",
            "Epoch 8/30\n",
            "115/115 [==============================] - 0s 2ms/step - loss: 0.9706 - accuracy: 0.5013\n",
            "Epoch 9/30\n",
            "115/115 [==============================] - 0s 2ms/step - loss: 0.9618 - accuracy: 0.5074\n",
            "Epoch 10/30\n",
            "115/115 [==============================] - 0s 2ms/step - loss: 1.0353 - accuracy: 0.5039\n",
            "Epoch 11/30\n",
            "115/115 [==============================] - 0s 2ms/step - loss: 1.0614 - accuracy: 0.4848\n",
            "Epoch 12/30\n",
            "115/115 [==============================] - 0s 2ms/step - loss: 0.9309 - accuracy: 0.5292\n",
            "Epoch 13/30\n",
            "115/115 [==============================] - 0s 2ms/step - loss: 1.0050 - accuracy: 0.5065\n",
            "Epoch 14/30\n",
            "115/115 [==============================] - 0s 2ms/step - loss: 1.0338 - accuracy: 0.4900\n",
            "Epoch 15/30\n",
            "115/115 [==============================] - 0s 2ms/step - loss: 1.0068 - accuracy: 0.4943\n",
            "Epoch 16/30\n",
            "115/115 [==============================] - 0s 2ms/step - loss: 1.0515 - accuracy: 0.4804\n",
            "Epoch 17/30\n",
            "115/115 [==============================] - 0s 2ms/step - loss: 1.0084 - accuracy: 0.4952\n",
            "Epoch 18/30\n",
            "115/115 [==============================] - 0s 2ms/step - loss: 0.9986 - accuracy: 0.4926\n",
            "Epoch 19/30\n",
            "115/115 [==============================] - 0s 2ms/step - loss: 0.9012 - accuracy: 0.5083\n",
            "Epoch 20/30\n",
            "115/115 [==============================] - 0s 2ms/step - loss: 0.9442 - accuracy: 0.5144\n",
            "Epoch 21/30\n",
            "115/115 [==============================] - 0s 2ms/step - loss: 1.0207 - accuracy: 0.4935\n",
            "Epoch 22/30\n",
            "115/115 [==============================] - 0s 2ms/step - loss: 0.9519 - accuracy: 0.5074\n",
            "Epoch 23/30\n",
            "115/115 [==============================] - 0s 2ms/step - loss: 1.0356 - accuracy: 0.4917\n",
            "Epoch 24/30\n",
            "115/115 [==============================] - 0s 2ms/step - loss: 1.0108 - accuracy: 0.4987\n",
            "Epoch 25/30\n",
            "115/115 [==============================] - 0s 2ms/step - loss: 0.9925 - accuracy: 0.5004\n",
            "Epoch 26/30\n",
            "115/115 [==============================] - 0s 2ms/step - loss: 0.9675 - accuracy: 0.5161\n",
            "Epoch 27/30\n",
            "115/115 [==============================] - 0s 2ms/step - loss: 1.0001 - accuracy: 0.4839\n",
            "Epoch 28/30\n",
            "115/115 [==============================] - 0s 2ms/step - loss: 0.9894 - accuracy: 0.5109\n",
            "Epoch 29/30\n",
            "115/115 [==============================] - 0s 2ms/step - loss: 1.0092 - accuracy: 0.5117\n",
            "Epoch 30/30\n",
            "115/115 [==============================] - 0s 2ms/step - loss: 1.0008 - accuracy: 0.4987\n"
          ]
        },
        {
          "output_type": "display_data",
          "data": {
            "text/plain": [
              "<Figure size 720x360 with 2 Axes>"
            ],
            "image/png": "[encoded data removed]"
          },
          "metadata": {
            "needs_background": "light"
          }
        }
      ],
      "source": [
        "model = Sequential()\n",
        "\n",
        "sgd = SGD(lr=9)\n",
        "model.add(Dense(12, activation='relu', input_dim=64))\n",
        "model.add(Dense(8, activation='relu'))\n",
        "model.add(Dense(1, activation='sigmoid'))\n",
        "\n",
        "model.compile(optimizer=sgd,\n",
        "              loss='binary_crossentropy',\n",
        "              metrics=['accuracy'])\n",
        "\n",
        "results = model.fit(X_pure_train, y_pure_train,\n",
        "                    epochs=30, batch_size=10, verbose=1)\n",
        "\n",
        "relu_loss = results.history['loss']\n",
        "relu_accuracy = results.history['accuracy']\n",
        "\n",
        "fig, (ax1, ax2) = plt.subplots(1,2, figsize=(10,5))\n",
        "sns.lineplot(x=results.epoch, y=relu_loss, ax=ax1, label='loss')\n",
        "sns.lineplot(x=results.epoch, y=relu_accuracy, ax=ax2, label='accuracy');"
      ]
    },
    {
      "cell_type": "markdown",
      "metadata": {
        "id": "c7t0FWuEUnC2"
      },
      "source": [
        "### Exercise\n",
        "\n",
        "We have been looking only at our training set. Let's add in our validation set to the picture. Check the docstring for the `.fit()` method and add in our validation data."
      ]
    },
    {
      "cell_type": "code",
      "execution_count": 13,
      "metadata": {
        "colab": {
          "base_uri": "https://localhost:8080/",
          "height": 1278
        },
        "id": "lOyzEg8-UnC2",
        "outputId": "bf7e4c2f-e6ae-42df-da28-30f9df0d9267"
      },
      "outputs": [
        {
          "output_type": "stream",
          "name": "stdout",
          "text": [
            "Epoch 1/30\n",
            "115/115 [==============================] - 2s 7ms/step - loss: 0.6323 - accuracy: 0.6432 - val_loss: 0.5392 - val_accuracy: 0.7778\n",
            "Epoch 2/30\n",
            "115/115 [==============================] - 1s 5ms/step - loss: 0.4235 - accuracy: 0.8259 - val_loss: 0.3940 - val_accuracy: 0.8403\n",
            "Epoch 3/30\n",
            "115/115 [==============================] - 1s 5ms/step - loss: 0.3074 - accuracy: 0.8747 - val_loss: 0.3202 - val_accuracy: 0.8681\n",
            "Epoch 4/30\n",
            "115/115 [==============================] - 1s 5ms/step - loss: 0.2686 - accuracy: 0.8921 - val_loss: 0.2576 - val_accuracy: 0.9028\n",
            "Epoch 5/30\n",
            "115/115 [==============================] - 1s 5ms/step - loss: 0.2468 - accuracy: 0.8947 - val_loss: 0.2475 - val_accuracy: 0.8993\n",
            "Epoch 6/30\n",
            "115/115 [==============================] - 1s 5ms/step - loss: 0.2210 - accuracy: 0.9104 - val_loss: 0.2306 - val_accuracy: 0.9028\n",
            "Epoch 7/30\n",
            "115/115 [==============================] - 1s 4ms/step - loss: 0.2108 - accuracy: 0.9138 - val_loss: 0.2256 - val_accuracy: 0.9062\n",
            "Epoch 8/30\n",
            "115/115 [==============================] - 1s 5ms/step - loss: 0.2061 - accuracy: 0.9104 - val_loss: 0.2113 - val_accuracy: 0.9236\n",
            "Epoch 9/30\n",
            "115/115 [==============================] - 1s 4ms/step - loss: 0.1939 - accuracy: 0.9156 - val_loss: 0.2054 - val_accuracy: 0.9271\n",
            "Epoch 10/30\n",
            "115/115 [==============================] - 0s 4ms/step - loss: 0.1886 - accuracy: 0.9164 - val_loss: 0.1989 - val_accuracy: 0.9236\n",
            "Epoch 11/30\n",
            "115/115 [==============================] - 0s 4ms/step - loss: 0.1817 - accuracy: 0.9243 - val_loss: 0.1935 - val_accuracy: 0.9271\n",
            "Epoch 12/30\n",
            "115/115 [==============================] - 1s 5ms/step - loss: 0.1691 - accuracy: 0.9304 - val_loss: 0.1921 - val_accuracy: 0.9271\n",
            "Epoch 13/30\n",
            "115/115 [==============================] - 1s 4ms/step - loss: 0.1648 - accuracy: 0.9269 - val_loss: 0.2386 - val_accuracy: 0.9062\n",
            "Epoch 14/30\n",
            "115/115 [==============================] - 1s 5ms/step - loss: 0.1591 - accuracy: 0.9330 - val_loss: 0.1769 - val_accuracy: 0.9271\n",
            "Epoch 15/30\n",
            "115/115 [==============================] - 1s 4ms/step - loss: 0.1554 - accuracy: 0.9391 - val_loss: 0.1788 - val_accuracy: 0.9306\n",
            "Epoch 16/30\n",
            "115/115 [==============================] - 1s 4ms/step - loss: 0.1484 - accuracy: 0.9330 - val_loss: 0.2349 - val_accuracy: 0.9132\n",
            "Epoch 17/30\n",
            "115/115 [==============================] - 1s 6ms/step - loss: 0.1510 - accuracy: 0.9339 - val_loss: 0.1627 - val_accuracy: 0.9410\n",
            "Epoch 18/30\n",
            "115/115 [==============================] - 1s 5ms/step - loss: 0.1320 - accuracy: 0.9434 - val_loss: 0.1803 - val_accuracy: 0.9340\n",
            "Epoch 19/30\n",
            "115/115 [==============================] - 1s 5ms/step - loss: 0.1266 - accuracy: 0.9452 - val_loss: 0.1613 - val_accuracy: 0.9375\n",
            "Epoch 20/30\n",
            "115/115 [==============================] - 0s 4ms/step - loss: 0.1147 - accuracy: 0.9530 - val_loss: 0.1455 - val_accuracy: 0.9514\n",
            "Epoch 21/30\n",
            "115/115 [==============================] - 0s 4ms/step - loss: 0.1118 - accuracy: 0.9469 - val_loss: 0.1451 - val_accuracy: 0.9375\n",
            "Epoch 22/30\n",
            "115/115 [==============================] - 0s 4ms/step - loss: 0.1029 - accuracy: 0.9617 - val_loss: 0.1378 - val_accuracy: 0.9375\n",
            "Epoch 23/30\n",
            "115/115 [==============================] - 1s 4ms/step - loss: 0.0946 - accuracy: 0.9652 - val_loss: 0.1256 - val_accuracy: 0.9549\n",
            "Epoch 24/30\n",
            "115/115 [==============================] - 1s 6ms/step - loss: 0.0883 - accuracy: 0.9687 - val_loss: 0.1200 - val_accuracy: 0.9549\n",
            "Epoch 25/30\n",
            "115/115 [==============================] - 1s 7ms/step - loss: 0.0837 - accuracy: 0.9713 - val_loss: 0.1204 - val_accuracy: 0.9583\n",
            "Epoch 26/30\n",
            "115/115 [==============================] - 1s 7ms/step - loss: 0.0779 - accuracy: 0.9721 - val_loss: 0.1091 - val_accuracy: 0.9549\n",
            "Epoch 27/30\n",
            "115/115 [==============================] - 1s 7ms/step - loss: 0.0772 - accuracy: 0.9704 - val_loss: 0.1139 - val_accuracy: 0.9653\n",
            "Epoch 28/30\n",
            "115/115 [==============================] - 0s 4ms/step - loss: 0.0718 - accuracy: 0.9687 - val_loss: 0.1219 - val_accuracy: 0.9583\n",
            "Epoch 29/30\n",
            "115/115 [==============================] - 1s 5ms/step - loss: 0.0595 - accuracy: 0.9774 - val_loss: 0.1017 - val_accuracy: 0.9618\n",
            "Epoch 30/30\n",
            "115/115 [==============================] - 1s 5ms/step - loss: 0.0549 - accuracy: 0.9809 - val_loss: 0.0993 - val_accuracy: 0.9653\n"
          ]
        },
        {
          "output_type": "display_data",
          "data": {
            "text/plain": [
              "<Figure size 720x360 with 2 Axes>"
            ],
            "image/png": "[encoded data removed]"
          },
          "metadata": {
            "needs_background": "light"
          }
        }
      ],
      "source": [
        "model = Sequential()\n",
        "model.add(Dense(12, activation='relu', input_dim=64))\n",
        "model.add(Dense(8, activation='relu'))\n",
        "model.add(Dense(4, activation='relu'))\n",
        "model.add(Dense(1, activation='sigmoid'))\n",
        "\n",
        "model.compile(optimizer='adam',\n",
        "              loss='binary_crossentropy',\n",
        "              metrics=['accuracy'])\n",
        "\n",
        "\n",
        "## YOUR CODE HERE\n",
        "results = model.fit(X_pure_train, y_pure_train,\n",
        "          epochs=30, batch_size=10,\n",
        "          validation_data=(X_val, y_val))\n",
        "\n",
        "train_loss = results.history['loss']\n",
        "train_acc = results.history['accuracy']\n",
        "val_loss = results.history['val_loss']\n",
        "val_acc = results.history['val_accuracy']\n",
        "\n",
        "fig, (ax1, ax2) = plt.subplots(1, 2, figsize=(10, 5))\n",
        "sns.lineplot(x=results.epoch, y=train_loss, ax=ax1, label='train_loss')\n",
        "sns.lineplot(x=results.epoch, y=train_acc, ax=ax2, label='train_accuracy')\n",
        "\n",
        "sns.lineplot(x=results.epoch, y=val_loss, ax=ax1, label='val_loss')\n",
        "sns.lineplot(x=results.epoch, y=val_acc, ax=ax2, label='val_accuracy');"
      ]
    },
    {
      "cell_type": "code",
      "execution_count": 14,
      "metadata": {
        "colab": {
          "base_uri": "https://localhost:8080/",
          "height": 0
        },
        "id": "PM3wsAWKUnC2",
        "outputId": "81d907b9-adab-4ee3-e056-0d50b17c6ca7"
      },
      "outputs": [
        {
          "output_type": "execute_result",
          "data": {
            "text/plain": [
              "0.9652777910232544"
            ]
          },
          "metadata": {},
          "execution_count": 14
        }
      ],
      "source": [
        "results.history['val_accuracy'][-1]"
      ]
    },
    {
      "cell_type": "markdown",
      "metadata": {
        "id": "V5mOL1aMUnC2"
      },
      "source": [
        "## Connecting with `sklearn`\n",
        "\n",
        "The `keras.wrappers` submodule means that we can turn `keras` models into estimators that `sklearn` tools will recognize."
      ]
    },
    {
      "cell_type": "code",
      "execution_count": 15,
      "metadata": {
        "colab": {
          "base_uri": "https://localhost:8080/",
          "height": 371
        },
        "id": "KMetqcOHUnC2",
        "outputId": "b24d8758-d586-40db-b43b-32a89dfce9d1"
      },
      "outputs": [
        {
          "output_type": "error",
          "ename": "TypeError",
          "evalue": "ignored",
          "traceback": [
            "\u001b[0;31m---------------------------------------------------------------------------\u001b[0m",
            "\u001b[0;31mTypeError\u001b[0m                                 Traceback (most recent call last)",
            "\u001b[0;32m<ipython-input-15-440685741601>\u001b[0m in \u001b[0;36m<module>\u001b[0;34m()\u001b[0m\n\u001b[1;32m      1\u001b[0m \u001b[0;31m# This will throw an error.\u001b[0m\u001b[0;34m\u001b[0m\u001b[0;34m\u001b[0m\u001b[0;34m\u001b[0m\u001b[0m\n\u001b[1;32m      2\u001b[0m \u001b[0;34m\u001b[0m\u001b[0m\n\u001b[0;32m----> 3\u001b[0;31m \u001b[0mcross_val_score\u001b[0m\u001b[0;34m(\u001b[0m\u001b[0mmodel\u001b[0m\u001b[0;34m,\u001b[0m \u001b[0mX_pure_train\u001b[0m\u001b[0;34m,\u001b[0m \u001b[0my_pure_train\u001b[0m\u001b[0;34m)\u001b[0m\u001b[0;34m\u001b[0m\u001b[0;34m\u001b[0m\u001b[0m\n\u001b[0m",
            "\u001b[0;32m/usr/local/lib/python3.7/dist-packages/sklearn/model_selection/_validation.py\u001b[0m in \u001b[0;36mcross_val_score\u001b[0;34m(estimator, X, y, groups, scoring, cv, n_jobs, verbose, fit_params, pre_dispatch, error_score)\u001b[0m\n\u001b[1;32m    505\u001b[0m     \"\"\"\n\u001b[1;32m    506\u001b[0m     \u001b[0;31m# To ensure multimetric format is not supported\u001b[0m\u001b[0;34m\u001b[0m\u001b[0;34m\u001b[0m\u001b[0;34m\u001b[0m\u001b[0m\n\u001b[0;32m--> 507\u001b[0;31m     \u001b[0mscorer\u001b[0m \u001b[0;34m=\u001b[0m \u001b[0mcheck_scoring\u001b[0m\u001b[0;34m(\u001b[0m\u001b[0mestimator\u001b[0m\u001b[0;34m,\u001b[0m \u001b[0mscoring\u001b[0m\u001b[0;34m=\u001b[0m\u001b[0mscoring\u001b[0m\u001b[0;34m)\u001b[0m\u001b[0;34m\u001b[0m\u001b[0;34m\u001b[0m\u001b[0m\n\u001b[0m\u001b[1;32m    508\u001b[0m \u001b[0;34m\u001b[0m\u001b[0m\n\u001b[1;32m    509\u001b[0m     cv_results = cross_validate(\n",
            "\u001b[0;32m/usr/local/lib/python3.7/dist-packages/sklearn/metrics/_scorer.py\u001b[0m in \u001b[0;36mcheck_scoring\u001b[0;34m(estimator, scoring, allow_none)\u001b[0m\n\u001b[1;32m    477\u001b[0m             raise TypeError(\n\u001b[1;32m    478\u001b[0m                 \u001b[0;34m\"If no scoring is specified, the estimator passed should \"\u001b[0m\u001b[0;34m\u001b[0m\u001b[0;34m\u001b[0m\u001b[0m\n\u001b[0;32m--> 479\u001b[0;31m                 \u001b[0;34m\"have a 'score' method. The estimator %r does not.\"\u001b[0m \u001b[0;34m%\u001b[0m \u001b[0mestimator\u001b[0m\u001b[0;34m\u001b[0m\u001b[0;34m\u001b[0m\u001b[0m\n\u001b[0m\u001b[1;32m    480\u001b[0m             )\n\u001b[1;32m    481\u001b[0m     \u001b[0;32melif\u001b[0m \u001b[0misinstance\u001b[0m\u001b[0;34m(\u001b[0m\u001b[0mscoring\u001b[0m\u001b[0;34m,\u001b[0m \u001b[0mIterable\u001b[0m\u001b[0;34m)\u001b[0m\u001b[0;34m:\u001b[0m\u001b[0;34m\u001b[0m\u001b[0;34m\u001b[0m\u001b[0m\n",
            "\u001b[0;31mTypeError\u001b[0m: If no scoring is specified, the estimator passed should have a 'score' method. The estimator <keras.engine.sequential.Sequential object at 0x7f06f797a8d0> does not."
          ]
        }
      ],
      "source": [
        "# This will throw an error.\n",
        "\n",
        "cross_val_score(model, X_pure_train, y_pure_train)"
      ]
    },
    {
      "cell_type": "code",
      "execution_count": 16,
      "metadata": {
        "id": "ootgOv_YUnC2"
      },
      "outputs": [],
      "source": [
        "def build_model():\n",
        "    model = Sequential()\n",
        "    model.add(Dense(12, activation='relu', input_dim=64))\n",
        "    model.add(Dense(8, activation='relu'))\n",
        "    model.add(Dense(4, activation='relu'))\n",
        "    model.add(Dense(1, activation = 'sigmoid'))\n",
        "\n",
        "    model.compile(optimizer='adam',\n",
        "                  loss='binary_crossentropy',\n",
        "                  metrics=['accuracy'])\n",
        "    return model"
      ]
    },
    {
      "cell_type": "code",
      "execution_count": 17,
      "metadata": {
        "colab": {
          "base_uri": "https://localhost:8080/",
          "height": 0
        },
        "id": "9BxupZ5kUnC3",
        "outputId": "7133e168-9271-43c7-9898-e64841f4b9e7"
      },
      "outputs": [
        {
          "output_type": "stream",
          "name": "stderr",
          "text": [
            "/usr/local/lib/python3.7/dist-packages/ipykernel_launcher.py:4: DeprecationWarning: KerasClassifier is deprecated, use Sci-Keras (https://github.com/adriangb/scikeras) instead. See https://www.adriangb.com/scikeras/stable/migration.html for help migrating.\n",
            "  after removing the cwd from sys.path.\n"
          ]
        }
      ],
      "source": [
        "keras_model = scikit_learn.KerasClassifier(build_model,\n",
        "                                          epochs=50,\n",
        "                                          batch_size=32,\n",
        "                                          verbose=2)"
      ]
    },
    {
      "cell_type": "code",
      "execution_count": 18,
      "metadata": {
        "colab": {
          "base_uri": "https://localhost:8080/",
          "height": 0
        },
        "id": "1ZYxcSorUnC3",
        "outputId": "ddbdd24b-d7d4-4c9a-e0cb-57c377648afc"
      },
      "outputs": [
        {
          "output_type": "execute_result",
          "data": {
            "text/plain": [
              "keras.wrappers.scikit_learn.KerasClassifier"
            ]
          },
          "metadata": {},
          "execution_count": 18
        }
      ],
      "source": [
        "type(keras_model)"
      ]
    },
    {
      "cell_type": "code",
      "execution_count": 19,
      "metadata": {
        "colab": {
          "base_uri": "https://localhost:8080/",
          "height": 0
        },
        "id": "5VGf68MXUnC3",
        "outputId": "1c49d949-22a1-424f-a60f-308745ea0c3c"
      },
      "outputs": [
        {
          "output_type": "stream",
          "name": "stdout",
          "text": [
            "Epoch 1/50\n",
            "29/29 - 1s - loss: 0.6820 - accuracy: 0.5713 - 628ms/epoch - 22ms/step\n",
            "Epoch 2/50\n",
            "29/29 - 0s - loss: 0.6436 - accuracy: 0.5985 - 50ms/epoch - 2ms/step\n",
            "Epoch 3/50\n",
            "29/29 - 0s - loss: 0.6030 - accuracy: 0.6681 - 49ms/epoch - 2ms/step\n",
            "Epoch 4/50\n",
            "29/29 - 0s - loss: 0.5588 - accuracy: 0.7584 - 55ms/epoch - 2ms/step\n",
            "Epoch 5/50\n",
            "29/29 - 0s - loss: 0.5155 - accuracy: 0.8161 - 56ms/epoch - 2ms/step\n",
            "Epoch 6/50\n",
            "29/29 - 0s - loss: 0.4781 - accuracy: 0.8487 - 47ms/epoch - 2ms/step\n",
            "Epoch 7/50\n",
            "29/29 - 0s - loss: 0.4469 - accuracy: 0.8825 - 59ms/epoch - 2ms/step\n",
            "Epoch 8/50\n",
            "29/29 - 0s - loss: 0.4236 - accuracy: 0.8988 - 69ms/epoch - 2ms/step\n",
            "Epoch 9/50\n",
            "29/29 - 0s - loss: 0.4060 - accuracy: 0.9108 - 56ms/epoch - 2ms/step\n",
            "Epoch 10/50\n",
            "29/29 - 0s - loss: 0.3906 - accuracy: 0.9206 - 59ms/epoch - 2ms/step\n",
            "Epoch 11/50\n",
            "29/29 - 0s - loss: 0.3782 - accuracy: 0.9304 - 52ms/epoch - 2ms/step\n",
            "Epoch 12/50\n",
            "29/29 - 0s - loss: 0.3669 - accuracy: 0.9314 - 53ms/epoch - 2ms/step\n",
            "Epoch 13/50\n",
            "29/29 - 0s - loss: 0.3572 - accuracy: 0.9358 - 60ms/epoch - 2ms/step\n",
            "Epoch 14/50\n",
            "29/29 - 0s - loss: 0.3486 - accuracy: 0.9314 - 48ms/epoch - 2ms/step\n",
            "Epoch 15/50\n",
            "29/29 - 0s - loss: 0.3401 - accuracy: 0.9347 - 58ms/epoch - 2ms/step\n",
            "Epoch 16/50\n",
            "29/29 - 0s - loss: 0.3320 - accuracy: 0.9380 - 52ms/epoch - 2ms/step\n",
            "Epoch 17/50\n",
            "29/29 - 0s - loss: 0.3262 - accuracy: 0.9347 - 54ms/epoch - 2ms/step\n",
            "Epoch 18/50\n",
            "29/29 - 0s - loss: 0.3171 - accuracy: 0.9456 - 59ms/epoch - 2ms/step\n",
            "Epoch 19/50\n",
            "29/29 - 0s - loss: 0.3096 - accuracy: 0.9412 - 49ms/epoch - 2ms/step\n",
            "Epoch 20/50\n",
            "29/29 - 0s - loss: 0.3008 - accuracy: 0.9478 - 54ms/epoch - 2ms/step\n",
            "Epoch 21/50\n",
            "29/29 - 0s - loss: 0.3002 - accuracy: 0.9391 - 64ms/epoch - 2ms/step\n",
            "Epoch 22/50\n",
            "29/29 - 0s - loss: 0.2876 - accuracy: 0.9478 - 61ms/epoch - 2ms/step\n",
            "Epoch 23/50\n",
            "29/29 - 0s - loss: 0.2818 - accuracy: 0.9499 - 60ms/epoch - 2ms/step\n",
            "Epoch 24/50\n",
            "29/29 - 0s - loss: 0.2760 - accuracy: 0.9521 - 56ms/epoch - 2ms/step\n",
            "Epoch 25/50\n",
            "29/29 - 0s - loss: 0.2680 - accuracy: 0.9576 - 62ms/epoch - 2ms/step\n",
            "Epoch 26/50\n",
            "29/29 - 0s - loss: 0.2653 - accuracy: 0.9543 - 47ms/epoch - 2ms/step\n",
            "Epoch 27/50\n",
            "29/29 - 0s - loss: 0.2582 - accuracy: 0.9554 - 53ms/epoch - 2ms/step\n",
            "Epoch 28/50\n",
            "29/29 - 0s - loss: 0.2536 - accuracy: 0.9554 - 52ms/epoch - 2ms/step\n",
            "Epoch 29/50\n",
            "29/29 - 0s - loss: 0.2465 - accuracy: 0.9597 - 55ms/epoch - 2ms/step\n",
            "Epoch 30/50\n",
            "29/29 - 0s - loss: 0.2423 - accuracy: 0.9674 - 59ms/epoch - 2ms/step\n",
            "Epoch 31/50\n",
            "29/29 - 0s - loss: 0.2356 - accuracy: 0.9674 - 61ms/epoch - 2ms/step\n",
            "Epoch 32/50\n",
            "29/29 - 0s - loss: 0.2331 - accuracy: 0.9630 - 61ms/epoch - 2ms/step\n",
            "Epoch 33/50\n",
            "29/29 - 0s - loss: 0.2268 - accuracy: 0.9630 - 60ms/epoch - 2ms/step\n",
            "Epoch 34/50\n",
            "29/29 - 0s - loss: 0.2211 - accuracy: 0.9684 - 60ms/epoch - 2ms/step\n",
            "Epoch 35/50\n",
            "29/29 - 0s - loss: 0.2186 - accuracy: 0.9684 - 51ms/epoch - 2ms/step\n",
            "Epoch 36/50\n",
            "29/29 - 0s - loss: 0.2137 - accuracy: 0.9663 - 58ms/epoch - 2ms/step\n",
            "Epoch 37/50\n",
            "29/29 - 0s - loss: 0.2086 - accuracy: 0.9739 - 49ms/epoch - 2ms/step\n",
            "Epoch 38/50\n",
            "29/29 - 0s - loss: 0.2050 - accuracy: 0.9663 - 59ms/epoch - 2ms/step\n",
            "Epoch 39/50\n",
            "29/29 - 0s - loss: 0.1999 - accuracy: 0.9739 - 49ms/epoch - 2ms/step\n",
            "Epoch 40/50\n",
            "29/29 - 0s - loss: 0.1958 - accuracy: 0.9706 - 56ms/epoch - 2ms/step\n",
            "Epoch 41/50\n",
            "29/29 - 0s - loss: 0.1917 - accuracy: 0.9750 - 55ms/epoch - 2ms/step\n",
            "Epoch 42/50\n",
            "29/29 - 0s - loss: 0.1668 - accuracy: 0.9771 - 62ms/epoch - 2ms/step\n",
            "Epoch 43/50\n",
            "29/29 - 0s - loss: 0.1176 - accuracy: 0.9793 - 67ms/epoch - 2ms/step\n",
            "Epoch 44/50\n",
            "29/29 - 0s - loss: 0.0851 - accuracy: 0.9782 - 58ms/epoch - 2ms/step\n",
            "Epoch 45/50\n",
            "29/29 - 0s - loss: 0.0636 - accuracy: 0.9826 - 59ms/epoch - 2ms/step\n",
            "Epoch 46/50\n",
            "29/29 - 0s - loss: 0.0539 - accuracy: 0.9848 - 55ms/epoch - 2ms/step\n",
            "Epoch 47/50\n",
            "29/29 - 0s - loss: 0.0520 - accuracy: 0.9837 - 51ms/epoch - 2ms/step\n",
            "Epoch 48/50\n",
            "29/29 - 0s - loss: 0.0388 - accuracy: 0.9913 - 47ms/epoch - 2ms/step\n",
            "Epoch 49/50\n",
            "29/29 - 0s - loss: 0.0373 - accuracy: 0.9913 - 62ms/epoch - 2ms/step\n",
            "Epoch 50/50\n",
            "29/29 - 0s - loss: 0.0320 - accuracy: 0.9924 - 53ms/epoch - 2ms/step\n",
            "8/8 - 0s - loss: 0.1696 - accuracy: 0.9522 - 141ms/epoch - 18ms/step\n",
            "Epoch 1/50\n",
            "29/29 - 1s - loss: 0.6917 - accuracy: 0.5310 - 623ms/epoch - 21ms/step\n",
            "Epoch 2/50\n",
            "29/29 - 0s - loss: 0.6652 - accuracy: 0.6007 - 64ms/epoch - 2ms/step\n",
            "Epoch 3/50\n",
            "29/29 - 0s - loss: 0.6279 - accuracy: 0.7280 - 54ms/epoch - 2ms/step\n",
            "Epoch 4/50\n",
            "29/29 - 0s - loss: 0.5519 - accuracy: 0.8172 - 55ms/epoch - 2ms/step\n",
            "Epoch 5/50\n",
            "29/29 - 0s - loss: 0.4480 - accuracy: 0.8629 - 48ms/epoch - 2ms/step\n",
            "Epoch 6/50\n",
            "29/29 - 0s - loss: 0.3548 - accuracy: 0.8770 - 55ms/epoch - 2ms/step\n",
            "Epoch 7/50\n",
            "29/29 - 0s - loss: 0.2962 - accuracy: 0.8781 - 54ms/epoch - 2ms/step\n",
            "Epoch 8/50\n",
            "29/29 - 0s - loss: 0.2557 - accuracy: 0.8955 - 50ms/epoch - 2ms/step\n",
            "Epoch 9/50\n",
            "29/29 - 0s - loss: 0.2307 - accuracy: 0.8999 - 67ms/epoch - 2ms/step\n",
            "Epoch 10/50\n",
            "29/29 - 0s - loss: 0.2146 - accuracy: 0.9064 - 47ms/epoch - 2ms/step\n",
            "Epoch 11/50\n",
            "29/29 - 0s - loss: 0.1954 - accuracy: 0.9097 - 53ms/epoch - 2ms/step\n",
            "Epoch 12/50\n",
            "29/29 - 0s - loss: 0.1795 - accuracy: 0.9184 - 66ms/epoch - 2ms/step\n",
            "Epoch 13/50\n",
            "29/29 - 0s - loss: 0.1680 - accuracy: 0.9282 - 58ms/epoch - 2ms/step\n",
            "Epoch 14/50\n",
            "29/29 - 0s - loss: 0.1534 - accuracy: 0.9336 - 59ms/epoch - 2ms/step\n",
            "Epoch 15/50\n",
            "29/29 - 0s - loss: 0.1445 - accuracy: 0.9467 - 58ms/epoch - 2ms/step\n",
            "Epoch 16/50\n",
            "29/29 - 0s - loss: 0.1337 - accuracy: 0.9467 - 65ms/epoch - 2ms/step\n",
            "Epoch 17/50\n",
            "29/29 - 0s - loss: 0.1238 - accuracy: 0.9510 - 65ms/epoch - 2ms/step\n",
            "Epoch 18/50\n",
            "29/29 - 0s - loss: 0.1181 - accuracy: 0.9554 - 69ms/epoch - 2ms/step\n",
            "Epoch 19/50\n",
            "29/29 - 0s - loss: 0.1067 - accuracy: 0.9630 - 52ms/epoch - 2ms/step\n",
            "Epoch 20/50\n",
            "29/29 - 0s - loss: 0.1040 - accuracy: 0.9619 - 64ms/epoch - 2ms/step\n",
            "Epoch 21/50\n",
            "29/29 - 0s - loss: 0.0960 - accuracy: 0.9695 - 54ms/epoch - 2ms/step\n",
            "Epoch 22/50\n",
            "29/29 - 0s - loss: 0.0952 - accuracy: 0.9706 - 53ms/epoch - 2ms/step\n",
            "Epoch 23/50\n",
            "29/29 - 0s - loss: 0.0834 - accuracy: 0.9750 - 51ms/epoch - 2ms/step\n",
            "Epoch 24/50\n",
            "29/29 - 0s - loss: 0.0784 - accuracy: 0.9761 - 59ms/epoch - 2ms/step\n",
            "Epoch 25/50\n",
            "29/29 - 0s - loss: 0.0736 - accuracy: 0.9761 - 67ms/epoch - 2ms/step\n",
            "Epoch 26/50\n",
            "29/29 - 0s - loss: 0.0684 - accuracy: 0.9793 - 53ms/epoch - 2ms/step\n",
            "Epoch 27/50\n",
            "29/29 - 0s - loss: 0.0669 - accuracy: 0.9815 - 53ms/epoch - 2ms/step\n",
            "Epoch 28/50\n",
            "29/29 - 0s - loss: 0.0631 - accuracy: 0.9804 - 65ms/epoch - 2ms/step\n",
            "Epoch 29/50\n",
            "29/29 - 0s - loss: 0.0583 - accuracy: 0.9848 - 53ms/epoch - 2ms/step\n",
            "Epoch 30/50\n",
            "29/29 - 0s - loss: 0.0550 - accuracy: 0.9848 - 49ms/epoch - 2ms/step\n",
            "Epoch 31/50\n",
            "29/29 - 0s - loss: 0.0514 - accuracy: 0.9859 - 55ms/epoch - 2ms/step\n",
            "Epoch 32/50\n",
            "29/29 - 0s - loss: 0.0494 - accuracy: 0.9880 - 50ms/epoch - 2ms/step\n",
            "Epoch 33/50\n",
            "29/29 - 0s - loss: 0.0474 - accuracy: 0.9869 - 61ms/epoch - 2ms/step\n",
            "Epoch 34/50\n",
            "29/29 - 0s - loss: 0.0455 - accuracy: 0.9869 - 78ms/epoch - 3ms/step\n",
            "Epoch 35/50\n",
            "29/29 - 0s - loss: 0.0453 - accuracy: 0.9848 - 49ms/epoch - 2ms/step\n",
            "Epoch 36/50\n",
            "29/29 - 0s - loss: 0.0413 - accuracy: 0.9902 - 48ms/epoch - 2ms/step\n",
            "Epoch 37/50\n",
            "29/29 - 0s - loss: 0.0379 - accuracy: 0.9891 - 51ms/epoch - 2ms/step\n",
            "Epoch 38/50\n",
            "29/29 - 0s - loss: 0.0365 - accuracy: 0.9891 - 47ms/epoch - 2ms/step\n",
            "Epoch 39/50\n",
            "29/29 - 0s - loss: 0.0380 - accuracy: 0.9891 - 53ms/epoch - 2ms/step\n",
            "Epoch 40/50\n",
            "29/29 - 0s - loss: 0.0353 - accuracy: 0.9891 - 63ms/epoch - 2ms/step\n",
            "Epoch 41/50\n",
            "29/29 - 0s - loss: 0.0333 - accuracy: 0.9891 - 50ms/epoch - 2ms/step\n",
            "Epoch 42/50\n",
            "29/29 - 0s - loss: 0.0309 - accuracy: 0.9935 - 49ms/epoch - 2ms/step\n",
            "Epoch 43/50\n",
            "29/29 - 0s - loss: 0.0296 - accuracy: 0.9924 - 47ms/epoch - 2ms/step\n",
            "Epoch 44/50\n",
            "29/29 - 0s - loss: 0.0296 - accuracy: 0.9924 - 50ms/epoch - 2ms/step\n",
            "Epoch 45/50\n",
            "29/29 - 0s - loss: 0.0280 - accuracy: 0.9924 - 56ms/epoch - 2ms/step\n",
            "Epoch 46/50\n",
            "29/29 - 0s - loss: 0.0285 - accuracy: 0.9935 - 57ms/epoch - 2ms/step\n",
            "Epoch 47/50\n",
            "29/29 - 0s - loss: 0.0271 - accuracy: 0.9935 - 50ms/epoch - 2ms/step\n",
            "Epoch 48/50\n",
            "29/29 - 0s - loss: 0.0248 - accuracy: 0.9935 - 64ms/epoch - 2ms/step\n",
            "Epoch 49/50\n",
            "29/29 - 0s - loss: 0.0228 - accuracy: 0.9946 - 55ms/epoch - 2ms/step\n",
            "Epoch 50/50\n",
            "29/29 - 0s - loss: 0.0226 - accuracy: 0.9935 - 57ms/epoch - 2ms/step\n",
            "8/8 - 0s - loss: 0.0890 - accuracy: 0.9565 - 152ms/epoch - 19ms/step\n",
            "Epoch 1/50\n",
            "29/29 - 1s - loss: 0.6657 - accuracy: 0.6322 - 608ms/epoch - 21ms/step\n",
            "Epoch 2/50\n",
            "29/29 - 0s - loss: 0.6150 - accuracy: 0.6975 - 65ms/epoch - 2ms/step\n",
            "Epoch 3/50\n",
            "29/29 - 0s - loss: 0.5721 - accuracy: 0.7661 - 56ms/epoch - 2ms/step\n",
            "Epoch 4/50\n",
            "29/29 - 0s - loss: 0.5271 - accuracy: 0.7954 - 67ms/epoch - 2ms/step\n",
            "Epoch 5/50\n",
            "29/29 - 0s - loss: 0.4945 - accuracy: 0.8411 - 52ms/epoch - 2ms/step\n",
            "Epoch 6/50\n",
            "29/29 - 0s - loss: 0.4740 - accuracy: 0.8509 - 55ms/epoch - 2ms/step\n",
            "Epoch 7/50\n",
            "29/29 - 0s - loss: 0.4574 - accuracy: 0.8640 - 52ms/epoch - 2ms/step\n",
            "Epoch 8/50\n",
            "29/29 - 0s - loss: 0.4435 - accuracy: 0.8749 - 55ms/epoch - 2ms/step\n",
            "Epoch 9/50\n",
            "29/29 - 0s - loss: 0.4305 - accuracy: 0.8781 - 60ms/epoch - 2ms/step\n",
            "Epoch 10/50\n",
            "29/29 - 0s - loss: 0.4206 - accuracy: 0.8879 - 52ms/epoch - 2ms/step\n",
            "Epoch 11/50\n",
            "29/29 - 0s - loss: 0.4089 - accuracy: 0.8955 - 69ms/epoch - 2ms/step\n",
            "Epoch 12/50\n",
            "29/29 - 0s - loss: 0.4016 - accuracy: 0.8945 - 52ms/epoch - 2ms/step\n",
            "Epoch 13/50\n",
            "29/29 - 0s - loss: 0.3909 - accuracy: 0.8955 - 59ms/epoch - 2ms/step\n",
            "Epoch 14/50\n",
            "29/29 - 0s - loss: 0.3784 - accuracy: 0.9010 - 53ms/epoch - 2ms/step\n",
            "Epoch 15/50\n",
            "29/29 - 0s - loss: 0.3308 - accuracy: 0.9021 - 73ms/epoch - 3ms/step\n",
            "Epoch 16/50\n",
            "29/29 - 0s - loss: 0.2741 - accuracy: 0.9010 - 56ms/epoch - 2ms/step\n",
            "Epoch 17/50\n",
            "29/29 - 0s - loss: 0.2407 - accuracy: 0.9129 - 58ms/epoch - 2ms/step\n",
            "Epoch 18/50\n",
            "29/29 - 0s - loss: 0.2233 - accuracy: 0.9140 - 53ms/epoch - 2ms/step\n",
            "Epoch 19/50\n",
            "29/29 - 0s - loss: 0.2037 - accuracy: 0.9162 - 58ms/epoch - 2ms/step\n",
            "Epoch 20/50\n",
            "29/29 - 0s - loss: 0.1955 - accuracy: 0.9184 - 65ms/epoch - 2ms/step\n",
            "Epoch 21/50\n",
            "29/29 - 0s - loss: 0.1871 - accuracy: 0.9206 - 53ms/epoch - 2ms/step\n",
            "Epoch 22/50\n",
            "29/29 - 0s - loss: 0.1799 - accuracy: 0.9260 - 202ms/epoch - 7ms/step\n",
            "Epoch 23/50\n",
            "29/29 - 0s - loss: 0.1708 - accuracy: 0.9293 - 151ms/epoch - 5ms/step\n",
            "Epoch 24/50\n",
            "29/29 - 0s - loss: 0.1638 - accuracy: 0.9336 - 184ms/epoch - 6ms/step\n",
            "Epoch 25/50\n",
            "29/29 - 0s - loss: 0.1639 - accuracy: 0.9358 - 136ms/epoch - 5ms/step\n",
            "Epoch 26/50\n",
            "29/29 - 0s - loss: 0.1548 - accuracy: 0.9412 - 55ms/epoch - 2ms/step\n",
            "Epoch 27/50\n",
            "29/29 - 0s - loss: 0.1486 - accuracy: 0.9423 - 53ms/epoch - 2ms/step\n",
            "Epoch 28/50\n",
            "29/29 - 0s - loss: 0.1453 - accuracy: 0.9380 - 57ms/epoch - 2ms/step\n",
            "Epoch 29/50\n",
            "29/29 - 0s - loss: 0.1406 - accuracy: 0.9456 - 73ms/epoch - 3ms/step\n",
            "Epoch 30/50\n",
            "29/29 - 0s - loss: 0.1369 - accuracy: 0.9467 - 65ms/epoch - 2ms/step\n",
            "Epoch 31/50\n",
            "29/29 - 0s - loss: 0.1320 - accuracy: 0.9478 - 56ms/epoch - 2ms/step\n",
            "Epoch 32/50\n",
            "29/29 - 0s - loss: 0.1305 - accuracy: 0.9510 - 73ms/epoch - 3ms/step\n",
            "Epoch 33/50\n",
            "29/29 - 0s - loss: 0.1259 - accuracy: 0.9521 - 60ms/epoch - 2ms/step\n",
            "Epoch 34/50\n",
            "29/29 - 0s - loss: 0.1263 - accuracy: 0.9543 - 55ms/epoch - 2ms/step\n",
            "Epoch 35/50\n",
            "29/29 - 0s - loss: 0.1181 - accuracy: 0.9554 - 59ms/epoch - 2ms/step\n",
            "Epoch 36/50\n",
            "29/29 - 0s - loss: 0.1156 - accuracy: 0.9587 - 59ms/epoch - 2ms/step\n",
            "Epoch 37/50\n",
            "29/29 - 0s - loss: 0.1097 - accuracy: 0.9587 - 55ms/epoch - 2ms/step\n",
            "Epoch 38/50\n",
            "29/29 - 0s - loss: 0.1048 - accuracy: 0.9597 - 71ms/epoch - 2ms/step\n",
            "Epoch 39/50\n",
            "29/29 - 0s - loss: 0.1052 - accuracy: 0.9597 - 55ms/epoch - 2ms/step\n",
            "Epoch 40/50\n",
            "29/29 - 0s - loss: 0.1015 - accuracy: 0.9630 - 60ms/epoch - 2ms/step\n",
            "Epoch 41/50\n",
            "29/29 - 0s - loss: 0.0958 - accuracy: 0.9652 - 58ms/epoch - 2ms/step\n",
            "Epoch 42/50\n",
            "29/29 - 0s - loss: 0.0930 - accuracy: 0.9684 - 56ms/epoch - 2ms/step\n",
            "Epoch 43/50\n",
            "29/29 - 0s - loss: 0.0910 - accuracy: 0.9684 - 59ms/epoch - 2ms/step\n",
            "Epoch 44/50\n",
            "29/29 - 0s - loss: 0.0859 - accuracy: 0.9674 - 56ms/epoch - 2ms/step\n",
            "Epoch 45/50\n",
            "29/29 - 0s - loss: 0.0853 - accuracy: 0.9674 - 63ms/epoch - 2ms/step\n",
            "Epoch 46/50\n",
            "29/29 - 0s - loss: 0.0827 - accuracy: 0.9684 - 49ms/epoch - 2ms/step\n",
            "Epoch 47/50\n",
            "29/29 - 0s - loss: 0.0793 - accuracy: 0.9739 - 51ms/epoch - 2ms/step\n",
            "Epoch 48/50\n",
            "29/29 - 0s - loss: 0.0760 - accuracy: 0.9717 - 56ms/epoch - 2ms/step\n",
            "Epoch 49/50\n",
            "29/29 - 0s - loss: 0.0739 - accuracy: 0.9717 - 52ms/epoch - 2ms/step\n",
            "Epoch 50/50\n",
            "29/29 - 0s - loss: 0.0730 - accuracy: 0.9706 - 52ms/epoch - 2ms/step\n",
            "8/8 - 0s - loss: 0.1114 - accuracy: 0.9522 - 143ms/epoch - 18ms/step\n",
            "Epoch 1/50\n",
            "29/29 - 1s - loss: 0.6948 - accuracy: 0.4875 - 753ms/epoch - 26ms/step\n",
            "Epoch 2/50\n",
            "29/29 - 0s - loss: 0.6821 - accuracy: 0.7138 - 80ms/epoch - 3ms/step\n",
            "Epoch 3/50\n",
            "29/29 - 0s - loss: 0.6531 - accuracy: 0.7802 - 90ms/epoch - 3ms/step\n",
            "Epoch 4/50\n",
            "29/29 - 0s - loss: 0.5892 - accuracy: 0.7976 - 106ms/epoch - 4ms/step\n",
            "Epoch 5/50\n",
            "29/29 - 0s - loss: 0.5087 - accuracy: 0.8313 - 72ms/epoch - 2ms/step\n",
            "Epoch 6/50\n",
            "29/29 - 0s - loss: 0.4306 - accuracy: 0.8466 - 68ms/epoch - 2ms/step\n",
            "Epoch 7/50\n",
            "29/29 - 0s - loss: 0.3616 - accuracy: 0.8662 - 98ms/epoch - 3ms/step\n",
            "Epoch 8/50\n",
            "29/29 - 0s - loss: 0.3107 - accuracy: 0.8857 - 83ms/epoch - 3ms/step\n",
            "Epoch 9/50\n",
            "29/29 - 0s - loss: 0.2805 - accuracy: 0.8825 - 74ms/epoch - 3ms/step\n",
            "Epoch 10/50\n",
            "29/29 - 0s - loss: 0.2502 - accuracy: 0.9053 - 80ms/epoch - 3ms/step\n",
            "Epoch 11/50\n",
            "29/29 - 0s - loss: 0.2276 - accuracy: 0.8977 - 88ms/epoch - 3ms/step\n",
            "Epoch 12/50\n",
            "29/29 - 0s - loss: 0.2117 - accuracy: 0.9075 - 93ms/epoch - 3ms/step\n",
            "Epoch 13/50\n",
            "29/29 - 0s - loss: 0.1977 - accuracy: 0.9129 - 118ms/epoch - 4ms/step\n",
            "Epoch 14/50\n",
            "29/29 - 0s - loss: 0.1846 - accuracy: 0.9129 - 92ms/epoch - 3ms/step\n",
            "Epoch 15/50\n",
            "29/29 - 0s - loss: 0.1719 - accuracy: 0.9238 - 113ms/epoch - 4ms/step\n",
            "Epoch 16/50\n",
            "29/29 - 0s - loss: 0.1604 - accuracy: 0.9271 - 93ms/epoch - 3ms/step\n",
            "Epoch 17/50\n",
            "29/29 - 0s - loss: 0.1532 - accuracy: 0.9325 - 90ms/epoch - 3ms/step\n",
            "Epoch 18/50\n",
            "29/29 - 0s - loss: 0.1449 - accuracy: 0.9402 - 91ms/epoch - 3ms/step\n",
            "Epoch 19/50\n",
            "29/29 - 0s - loss: 0.1360 - accuracy: 0.9489 - 88ms/epoch - 3ms/step\n",
            "Epoch 20/50\n",
            "29/29 - 0s - loss: 0.1300 - accuracy: 0.9467 - 69ms/epoch - 2ms/step\n",
            "Epoch 21/50\n",
            "29/29 - 0s - loss: 0.1225 - accuracy: 0.9521 - 94ms/epoch - 3ms/step\n",
            "Epoch 22/50\n",
            "29/29 - 0s - loss: 0.1166 - accuracy: 0.9565 - 88ms/epoch - 3ms/step\n",
            "Epoch 23/50\n",
            "29/29 - 0s - loss: 0.1177 - accuracy: 0.9521 - 82ms/epoch - 3ms/step\n",
            "Epoch 24/50\n",
            "29/29 - 0s - loss: 0.1067 - accuracy: 0.9565 - 51ms/epoch - 2ms/step\n",
            "Epoch 25/50\n",
            "29/29 - 0s - loss: 0.1025 - accuracy: 0.9619 - 73ms/epoch - 3ms/step\n",
            "Epoch 26/50\n",
            "29/29 - 0s - loss: 0.1001 - accuracy: 0.9630 - 59ms/epoch - 2ms/step\n",
            "Epoch 27/50\n",
            "29/29 - 0s - loss: 0.0953 - accuracy: 0.9619 - 60ms/epoch - 2ms/step\n",
            "Epoch 28/50\n",
            "29/29 - 0s - loss: 0.0923 - accuracy: 0.9652 - 51ms/epoch - 2ms/step\n",
            "Epoch 29/50\n",
            "29/29 - 0s - loss: 0.0877 - accuracy: 0.9641 - 48ms/epoch - 2ms/step\n",
            "Epoch 30/50\n",
            "29/29 - 0s - loss: 0.0911 - accuracy: 0.9597 - 57ms/epoch - 2ms/step\n",
            "Epoch 31/50\n",
            "29/29 - 0s - loss: 0.0840 - accuracy: 0.9684 - 55ms/epoch - 2ms/step\n",
            "Epoch 32/50\n",
            "29/29 - 0s - loss: 0.0791 - accuracy: 0.9695 - 63ms/epoch - 2ms/step\n",
            "Epoch 33/50\n",
            "29/29 - 0s - loss: 0.0799 - accuracy: 0.9641 - 49ms/epoch - 2ms/step\n",
            "Epoch 34/50\n",
            "29/29 - 0s - loss: 0.0753 - accuracy: 0.9652 - 52ms/epoch - 2ms/step\n",
            "Epoch 35/50\n",
            "29/29 - 0s - loss: 0.0715 - accuracy: 0.9739 - 58ms/epoch - 2ms/step\n",
            "Epoch 36/50\n",
            "29/29 - 0s - loss: 0.0700 - accuracy: 0.9684 - 57ms/epoch - 2ms/step\n",
            "Epoch 37/50\n",
            "29/29 - 0s - loss: 0.0670 - accuracy: 0.9739 - 58ms/epoch - 2ms/step\n",
            "Epoch 38/50\n",
            "29/29 - 0s - loss: 0.0697 - accuracy: 0.9728 - 55ms/epoch - 2ms/step\n",
            "Epoch 39/50\n",
            "29/29 - 0s - loss: 0.0621 - accuracy: 0.9771 - 52ms/epoch - 2ms/step\n",
            "Epoch 40/50\n",
            "29/29 - 0s - loss: 0.0628 - accuracy: 0.9739 - 58ms/epoch - 2ms/step\n",
            "Epoch 41/50\n",
            "29/29 - 0s - loss: 0.0585 - accuracy: 0.9750 - 53ms/epoch - 2ms/step\n",
            "Epoch 42/50\n",
            "29/29 - 0s - loss: 0.0586 - accuracy: 0.9771 - 54ms/epoch - 2ms/step\n",
            "Epoch 43/50\n",
            "29/29 - 0s - loss: 0.0591 - accuracy: 0.9728 - 61ms/epoch - 2ms/step\n",
            "Epoch 44/50\n",
            "29/29 - 0s - loss: 0.0529 - accuracy: 0.9815 - 65ms/epoch - 2ms/step\n",
            "Epoch 45/50\n",
            "29/29 - 0s - loss: 0.0531 - accuracy: 0.9782 - 49ms/epoch - 2ms/step\n",
            "Epoch 46/50\n",
            "29/29 - 0s - loss: 0.0512 - accuracy: 0.9826 - 50ms/epoch - 2ms/step\n",
            "Epoch 47/50\n",
            "29/29 - 0s - loss: 0.0492 - accuracy: 0.9815 - 55ms/epoch - 2ms/step\n",
            "Epoch 48/50\n",
            "29/29 - 0s - loss: 0.0480 - accuracy: 0.9826 - 54ms/epoch - 2ms/step\n",
            "Epoch 49/50\n",
            "29/29 - 0s - loss: 0.0455 - accuracy: 0.9837 - 55ms/epoch - 2ms/step\n",
            "Epoch 50/50\n",
            "29/29 - 0s - loss: 0.0446 - accuracy: 0.9859 - 55ms/epoch - 2ms/step\n",
            "8/8 - 0s - loss: 0.0803 - accuracy: 0.9696 - 150ms/epoch - 19ms/step\n",
            "Epoch 1/50\n",
            "29/29 - 1s - loss: 0.6793 - accuracy: 0.4978 - 607ms/epoch - 21ms/step\n",
            "Epoch 2/50\n",
            "29/29 - 0s - loss: 0.6256 - accuracy: 0.6293 - 53ms/epoch - 2ms/step\n",
            "Epoch 3/50\n",
            "29/29 - 0s - loss: 0.5722 - accuracy: 0.7424 - 53ms/epoch - 2ms/step\n",
            "Epoch 4/50\n",
            "29/29 - 0s - loss: 0.5280 - accuracy: 0.8033 - 58ms/epoch - 2ms/step\n",
            "Epoch 5/50\n",
            "29/29 - 0s - loss: 0.4941 - accuracy: 0.8467 - 60ms/epoch - 2ms/step\n",
            "Epoch 6/50\n",
            "29/29 - 0s - loss: 0.4687 - accuracy: 0.8717 - 56ms/epoch - 2ms/step\n",
            "Epoch 7/50\n",
            "29/29 - 0s - loss: 0.4476 - accuracy: 0.8848 - 56ms/epoch - 2ms/step\n",
            "Epoch 8/50\n",
            "29/29 - 0s - loss: 0.4298 - accuracy: 0.8957 - 59ms/epoch - 2ms/step\n",
            "Epoch 9/50\n",
            "29/29 - 0s - loss: 0.4138 - accuracy: 0.9087 - 58ms/epoch - 2ms/step\n",
            "Epoch 10/50\n",
            "29/29 - 0s - loss: 0.4030 - accuracy: 0.9054 - 51ms/epoch - 2ms/step\n",
            "Epoch 11/50\n",
            "29/29 - 0s - loss: 0.3871 - accuracy: 0.9152 - 66ms/epoch - 2ms/step\n",
            "Epoch 12/50\n",
            "29/29 - 0s - loss: 0.3755 - accuracy: 0.9185 - 54ms/epoch - 2ms/step\n",
            "Epoch 13/50\n",
            "29/29 - 0s - loss: 0.3640 - accuracy: 0.9250 - 75ms/epoch - 3ms/step\n",
            "Epoch 14/50\n",
            "29/29 - 0s - loss: 0.3542 - accuracy: 0.9326 - 52ms/epoch - 2ms/step\n",
            "Epoch 15/50\n",
            "29/29 - 0s - loss: 0.3448 - accuracy: 0.9293 - 52ms/epoch - 2ms/step\n",
            "Epoch 16/50\n",
            "29/29 - 0s - loss: 0.3362 - accuracy: 0.9337 - 57ms/epoch - 2ms/step\n",
            "Epoch 17/50\n",
            "29/29 - 0s - loss: 0.3265 - accuracy: 0.9402 - 51ms/epoch - 2ms/step\n",
            "Epoch 18/50\n",
            "29/29 - 0s - loss: 0.3169 - accuracy: 0.9424 - 53ms/epoch - 2ms/step\n",
            "Epoch 19/50\n",
            "29/29 - 0s - loss: 0.3097 - accuracy: 0.9489 - 47ms/epoch - 2ms/step\n",
            "Epoch 20/50\n",
            "29/29 - 0s - loss: 0.3013 - accuracy: 0.9511 - 49ms/epoch - 2ms/step\n",
            "Epoch 21/50\n",
            "29/29 - 0s - loss: 0.2946 - accuracy: 0.9554 - 58ms/epoch - 2ms/step\n",
            "Epoch 22/50\n",
            "29/29 - 0s - loss: 0.2887 - accuracy: 0.9554 - 55ms/epoch - 2ms/step\n",
            "Epoch 23/50\n",
            "29/29 - 0s - loss: 0.2800 - accuracy: 0.9565 - 61ms/epoch - 2ms/step\n",
            "Epoch 24/50\n",
            "29/29 - 0s - loss: 0.2736 - accuracy: 0.9598 - 52ms/epoch - 2ms/step\n",
            "Epoch 25/50\n",
            "29/29 - 0s - loss: 0.2702 - accuracy: 0.9565 - 49ms/epoch - 2ms/step\n",
            "Epoch 26/50\n",
            "29/29 - 0s - loss: 0.2631 - accuracy: 0.9598 - 59ms/epoch - 2ms/step\n",
            "Epoch 27/50\n",
            "29/29 - 0s - loss: 0.2579 - accuracy: 0.9587 - 50ms/epoch - 2ms/step\n",
            "Epoch 28/50\n",
            "29/29 - 0s - loss: 0.2493 - accuracy: 0.9641 - 61ms/epoch - 2ms/step\n",
            "Epoch 29/50\n",
            "29/29 - 0s - loss: 0.2446 - accuracy: 0.9609 - 52ms/epoch - 2ms/step\n",
            "Epoch 30/50\n",
            "29/29 - 0s - loss: 0.2386 - accuracy: 0.9641 - 50ms/epoch - 2ms/step\n",
            "Epoch 31/50\n",
            "29/29 - 0s - loss: 0.2332 - accuracy: 0.9685 - 72ms/epoch - 2ms/step\n",
            "Epoch 32/50\n",
            "29/29 - 0s - loss: 0.2304 - accuracy: 0.9663 - 54ms/epoch - 2ms/step\n",
            "Epoch 33/50\n",
            "29/29 - 0s - loss: 0.2253 - accuracy: 0.9663 - 61ms/epoch - 2ms/step\n",
            "Epoch 34/50\n",
            "29/29 - 0s - loss: 0.2210 - accuracy: 0.9674 - 56ms/epoch - 2ms/step\n",
            "Epoch 35/50\n",
            "29/29 - 0s - loss: 0.2138 - accuracy: 0.9652 - 56ms/epoch - 2ms/step\n",
            "Epoch 36/50\n",
            "29/29 - 0s - loss: 0.2104 - accuracy: 0.9728 - 62ms/epoch - 2ms/step\n",
            "Epoch 37/50\n",
            "29/29 - 0s - loss: 0.2071 - accuracy: 0.9728 - 52ms/epoch - 2ms/step\n",
            "Epoch 38/50\n",
            "29/29 - 0s - loss: 0.2030 - accuracy: 0.9717 - 69ms/epoch - 2ms/step\n",
            "Epoch 39/50\n",
            "29/29 - 0s - loss: 0.1964 - accuracy: 0.9772 - 55ms/epoch - 2ms/step\n",
            "Epoch 40/50\n",
            "29/29 - 0s - loss: 0.1955 - accuracy: 0.9739 - 49ms/epoch - 2ms/step\n",
            "Epoch 41/50\n",
            "29/29 - 0s - loss: 0.1879 - accuracy: 0.9793 - 51ms/epoch - 2ms/step\n",
            "Epoch 42/50\n",
            "29/29 - 0s - loss: 0.1843 - accuracy: 0.9739 - 52ms/epoch - 2ms/step\n",
            "Epoch 43/50\n",
            "29/29 - 0s - loss: 0.1797 - accuracy: 0.9783 - 54ms/epoch - 2ms/step\n",
            "Epoch 44/50\n",
            "29/29 - 0s - loss: 0.1775 - accuracy: 0.9804 - 59ms/epoch - 2ms/step\n",
            "Epoch 45/50\n",
            "29/29 - 0s - loss: 0.1730 - accuracy: 0.9826 - 52ms/epoch - 2ms/step\n",
            "Epoch 46/50\n",
            "29/29 - 0s - loss: 0.1689 - accuracy: 0.9783 - 52ms/epoch - 2ms/step\n",
            "Epoch 47/50\n",
            "29/29 - 0s - loss: 0.1660 - accuracy: 0.9815 - 60ms/epoch - 2ms/step\n",
            "Epoch 48/50\n",
            "29/29 - 0s - loss: 0.1634 - accuracy: 0.9859 - 56ms/epoch - 2ms/step\n",
            "Epoch 49/50\n",
            "29/29 - 0s - loss: 0.1588 - accuracy: 0.9859 - 56ms/epoch - 2ms/step\n",
            "Epoch 50/50\n",
            "29/29 - 0s - loss: 0.1574 - accuracy: 0.9826 - 61ms/epoch - 2ms/step\n",
            "8/8 - 0s - loss: 0.2525 - accuracy: 0.9127 - 144ms/epoch - 18ms/step\n"
          ]
        },
        {
          "output_type": "execute_result",
          "data": {
            "text/plain": [
              "array([0.95217389, 0.95652175, 0.95217389, 0.96956521, 0.91266376])"
            ]
          },
          "metadata": {},
          "execution_count": 19
        }
      ],
      "source": [
        "cross_val_score(keras_model, X_pure_train, y_pure_train)"
      ]
    },
    {
      "cell_type": "markdown",
      "metadata": {
        "id": "eGvpx5RyUnC3"
      },
      "source": [
        "## Regularization"
      ]
    },
    {
      "cell_type": "markdown",
      "metadata": {
        "id": "OflP9ZVvUnC3"
      },
      "source": [
        "Does regularization make sense in the context of neural networks? <br/>\n",
        "\n",
        "Yes! We still have all of the salient ingredients: a loss function, overfitting vs. underfitting, and coefficients (weights) that could get too large.\n",
        "\n",
        "But there are now a few different flavors besides L1 and L2 regularization. (Note that L1 regularization is not common in the context of  neural networks.)\n",
        "\n",
        "We'll add a few more layers to give regularization a better chance of making a difference!"
      ]
    },
    {
      "cell_type": "code",
      "execution_count": 20,
      "metadata": {
        "colab": {
          "base_uri": "https://localhost:8080/",
          "height": 322
        },
        "id": "BgIGB7WOUnC3",
        "outputId": "a0bc2386-da9b-45f3-aaf5-70e9fe474ce0"
      },
      "outputs": [
        {
          "output_type": "display_data",
          "data": {
            "text/plain": [
              "<Figure size 720x360 with 2 Axes>"
            ],
            "image/png": "[encoded data removed]"
          },
          "metadata": {
            "needs_background": "light"
          }
        }
      ],
      "source": [
        "model = Sequential()\n",
        "model.add(Dense(30, activation='relu', input_dim=64))\n",
        "\n",
        "# We can add L2 (or L1) regularization right into\n",
        "# the layer with the kernel_regularizer parameter.\n",
        "\n",
        "model.add(Dense(20, activation='relu',\n",
        "                kernel_regularizer=l2(l2=0.05)))\n",
        "\n",
        "# Note that there is also a bias_regularizer,\n",
        "# but this tends to have less effect.\n",
        "\n",
        "model.add(Dense(12, activation='relu'))\n",
        "model.add(Dense(12, activation='relu'))\n",
        "model.add(Dense(12, activation='relu'))\n",
        "model.add(Dense(8, activation='relu'))\n",
        "model.add(Dense(4, activation='relu'))\n",
        "model.add(Dense(1, activation ='sigmoid'))\n",
        "\n",
        "model.compile(optimizer='adam',\n",
        "              loss='binary_crossentropy',\n",
        "              metrics=['accuracy'])\n",
        "\n",
        "results = model.fit(X_pure_train, y_pure_train, epochs=20, batch_size=32,\n",
        "                    verbose=0, validation_data=(X_val, y_val))\n",
        "\n",
        "train_loss = results.history['loss']\n",
        "train_acc = results.history['accuracy']\n",
        "val_loss = results.history['val_loss']\n",
        "val_acc = results.history['val_accuracy']\n",
        "\n",
        "\n",
        "fig, (ax1, ax2) = plt.subplots(1, 2, figsize=(10, 5))\n",
        "sns.lineplot(x=results.epoch, y=train_loss, ax=ax1, label='train_loss')\n",
        "sns.lineplot(x=results.epoch, y=train_acc, ax=ax2, label='train_accuracy')\n",
        "\n",
        "sns.lineplot(x=results.epoch, y=val_loss, ax=ax1, label='val_loss')\n",
        "sns.lineplot(x=results.epoch, y=val_acc, ax=ax2, label='val_accuracy');"
      ]
    },
    {
      "cell_type": "markdown",
      "metadata": {
        "id": "lfXgJY9nUnC3"
      },
      "source": [
        "Adding L2 to multiple layers:"
      ]
    },
    {
      "cell_type": "code",
      "execution_count": 21,
      "metadata": {
        "colab": {
          "base_uri": "https://localhost:8080/",
          "height": 320
        },
        "id": "QwTxqjW4UnC3",
        "outputId": "8d399414-d1ac-494b-fc5c-9c71e14d6356"
      },
      "outputs": [
        {
          "output_type": "display_data",
          "data": {
            "text/plain": [
              "<Figure size 720x360 with 2 Axes>"
            ],
            "image/png": "[encoded data removed]"
          },
          "metadata": {
            "needs_background": "light"
          }
        }
      ],
      "source": [
        "model = Sequential()\n",
        "model.add(Dense(30, activation='relu',\n",
        "                input_dim=64))\n",
        "model.add(Dense(20, activation='relu',\n",
        "                kernel_regularizer=l2(l2=0.01)))\n",
        "\n",
        "model.add(Dense(12, activation='relu',\n",
        "                kernel_regularizer=l2(l2=0.01)))\n",
        "model.add(Dense(12, activation='relu',\n",
        "                kernel_regularizer=l2(l2=0.01)))\n",
        "model.add(Dense(12, activation='relu',\n",
        "                kernel_regularizer=l2(l2=0.01)))\n",
        "model.add(Dense(8, activation='relu',\n",
        "                kernel_regularizer=l2(l2=0.01)))\n",
        "model.add(Dense(4, activation='relu',\n",
        "                kernel_regularizer=l2(l2=0.01)))\n",
        "model.add(Dense(1, activation='sigmoid'))\n",
        "\n",
        "model.compile(optimizer='adam',\n",
        "              loss='binary_crossentropy',\n",
        "              metrics=['accuracy'])\n",
        "\n",
        "results = model.fit(X_pure_train, y_pure_train, epochs=20, batch_size=32,\n",
        "                    verbose=0, validation_data=(X_val, y_val))\n",
        "\n",
        "train_loss = results.history['loss']\n",
        "train_acc = results.history['accuracy']\n",
        "val_loss = results.history['val_loss']\n",
        "val_acc = results.history['val_accuracy']\n",
        "\n",
        "\n",
        "fig, (ax1, ax2) = plt.subplots(1, 2, figsize=(10, 5))\n",
        "sns.lineplot(x=results.epoch, y=train_loss, ax=ax1, label='train_loss')\n",
        "sns.lineplot(x=results.epoch, y=train_acc, ax=ax2, label='train_accuracy')\n",
        "\n",
        "sns.lineplot(x=results.epoch, y=val_loss, ax=ax1, label='val_loss')\n",
        "sns.lineplot(x=results.epoch, y=val_acc, ax=ax2, label='val_accuracy');"
      ]
    },
    {
      "cell_type": "markdown",
      "metadata": {
        "id": "akxCW52OUnC3"
      },
      "source": [
        "### Dropout\n",
        "\n",
        "We can also specify a dropout layer in keras, which randomly shuts off different nodes during training. This can help to prevent overfitting.\n",
        "\n",
        "![drop_out](img/drop_out.png)"
      ]
    },
    {
      "cell_type": "markdown",
      "metadata": {
        "id": "7s05kV-1UnC3"
      },
      "source": [
        "### Exercise\n",
        "\n",
        "To add dropout to a `keras` network, simply add it as though it were a layer. It will apply to the immediately preceding layer.\n",
        "\n",
        "Add Dropout to one or more layers below."
      ]
    },
    {
      "cell_type": "code",
      "execution_count": 22,
      "metadata": {
        "colab": {
          "base_uri": "https://localhost:8080/",
          "height": 320
        },
        "id": "Odqrey3DUnC3",
        "outputId": "f0f6ccaa-105f-468f-fcae-f931cffbc64d"
      },
      "outputs": [
        {
          "output_type": "display_data",
          "data": {
            "text/plain": [
              "<Figure size 720x360 with 2 Axes>"
            ],
            "image/png": "[encoded data removed]"
          },
          "metadata": {
            "needs_background": "light"
          }
        }
      ],
      "source": [
        "model = Sequential()\n",
        "model.add(Dense(30, activation='relu', input_dim=64))\n",
        "model.add(Dense(20, activation='relu'))\n",
        "model.add(Dense(12, activation='relu'))\n",
        "model.add(Dense(12, activation='relu'))\n",
        "model.add(Dense(12, activation='relu'))\n",
        "model.add(Dense(8, activation='relu'))\n",
        "model.add(Dense(4, activation='relu'))\n",
        "model.add(Dense(1, activation ='sigmoid'))\n",
        "\n",
        "model.compile(optimizer='adam',\n",
        "              loss='binary_crossentropy',\n",
        "              metrics=['accuracy'])\n",
        "\n",
        "results = model.fit(X_pure_train, y_pure_train, epochs=50,\n",
        "                    batch_size= 32, verbose=0,\n",
        "                    validation_data=(X_val, y_val))\n",
        "\n",
        "train_loss = results.history['loss']\n",
        "train_acc = results.history['accuracy']\n",
        "val_loss = results.history['val_loss']\n",
        "val_acc = results.history['val_accuracy']\n",
        "\n",
        "\n",
        "fig, (ax1, ax2) = plt.subplots(1, 2, figsize=(10, 5))\n",
        "sns.lineplot(x=results.epoch, y=train_loss, ax=ax1, label='train_loss')\n",
        "sns.lineplot(x=results.epoch, y=train_acc, ax=ax2, label='train_accuracy')\n",
        "\n",
        "sns.lineplot(x=results.epoch, y=val_loss, ax=ax1, label='val_loss')\n",
        "sns.lineplot(x=results.epoch, y=val_acc, ax=ax2, label='val_accuracy');"
      ]
    },
    {
      "cell_type": "code",
      "execution_count": 23,
      "metadata": {
        "colab": {
          "base_uri": "https://localhost:8080/",
          "height": 0
        },
        "id": "5kzMdXs5UnC3",
        "outputId": "849eaca3-f8d1-4f8b-eb54-768834cb1df8"
      },
      "outputs": [
        {
          "output_type": "execute_result",
          "data": {
            "text/plain": [
              "0.9756944179534912"
            ]
          },
          "metadata": {},
          "execution_count": 23
        }
      ],
      "source": [
        "results.history['val_accuracy'][-1]"
      ]
    },
    {
      "cell_type": "markdown",
      "metadata": {
        "id": "nGBpTMicUnC3"
      },
      "source": [
        "### Early Stopping"
      ]
    },
    {
      "cell_type": "markdown",
      "metadata": {
        "id": "gJpJUHH0UnC3"
      },
      "source": [
        "We can also tell our neural network to stop once it stops realizing any gain.\n",
        "\n",
        "Here we tell it to stop once the a very small positive change in the validation loss occurs:"
      ]
    },
    {
      "cell_type": "code",
      "execution_count": 24,
      "metadata": {
        "colab": {
          "base_uri": "https://localhost:8080/",
          "height": 338
        },
        "id": "Y8yFYHE1UnC3",
        "outputId": "afbf4899-2ae7-4991-f87d-3c846df2ce65"
      },
      "outputs": [
        {
          "output_type": "stream",
          "name": "stdout",
          "text": [
            "Epoch 2: early stopping\n"
          ]
        },
        {
          "output_type": "display_data",
          "data": {
            "text/plain": [
              "<Figure size 720x360 with 2 Axes>"
            ],
            "image/png": "[encoded data removed]"
          },
          "metadata": {
            "needs_background": "light"
          }
        }
      ],
      "source": [
        "model = Sequential()\n",
        "model.add(Dense(30, activation='relu', input_dim=64))\n",
        "model.add(Dense(20, activation='relu'))\n",
        "model.add(Dropout(0.5))\n",
        "model.add(Dense(12, activation='relu'))\n",
        "model.add(Dense(12, activation='relu'))\n",
        "model.add(Dense(12, activation='relu'))\n",
        "model.add(Dense(8, activation='relu'))\n",
        "model.add(Dense(4, activation='relu'))\n",
        "model.add(Dense(1, activation ='sigmoid'))\n",
        "\n",
        "model.compile(optimizer='adam',\n",
        "              loss='binary_crossentropy',\n",
        "              metrics=['accuracy'])\n",
        "\n",
        "# Define the EarlyStopping object\n",
        "early_stop = EarlyStopping(monitor='val_loss', min_delta=1e-8,\n",
        "                           verbose=1,\n",
        "                           mode='min')\n",
        "\n",
        "# Place this in a list as the value of the `callbacks` parameter\n",
        "# in the `.fit()` method.\n",
        "results = model.fit(X_pure_train, y_pure_train,\n",
        "                    epochs=20, batch_size=32,\n",
        "                    verbose=0, validation_data=(X_val, y_val),\n",
        "                    callbacks=[early_stop])\n",
        "\n",
        "train_loss = results.history['loss']\n",
        "train_acc = results.history['accuracy']\n",
        "val_loss = results.history['val_loss']\n",
        "val_acc = results.history['val_accuracy']\n",
        "\n",
        "\n",
        "fig, (ax1, ax2) = plt.subplots(1, 2, figsize=(10, 5))\n",
        "sns.lineplot(x=results.epoch, y=train_loss, ax=ax1, label='train_loss')\n",
        "sns.lineplot(x=results.epoch, y=train_acc, ax=ax2, label='train_accuracy')\n",
        "\n",
        "sns.lineplot(x=results.epoch, y=val_loss, ax=ax1, label='val_loss')\n",
        "sns.lineplot(x=results.epoch, y=val_acc, ax=ax2, label='val_accuracy');"
      ]
    },
    {
      "cell_type": "markdown",
      "metadata": {
        "id": "r7Dvi8BrUnC4"
      },
      "source": [
        "### Exercise\n",
        "\n",
        "That probably stopped too early. We can specify the number of epochs in which it doesn't see decrease in the loss with the `patience` parameter. Modify the code below to include an Early Stop with a patience of 5 epochs."
      ]
    },
    {
      "cell_type": "code",
      "execution_count": 25,
      "metadata": {
        "colab": {
          "base_uri": "https://localhost:8080/",
          "height": 338
        },
        "id": "jfDhxWpYUnC4",
        "outputId": "2a13d6b7-e540-4305-ba21-14bfea7af51c"
      },
      "outputs": [
        {
          "output_type": "stream",
          "name": "stdout",
          "text": [
            "Epoch 2: early stopping\n"
          ]
        },
        {
          "output_type": "display_data",
          "data": {
            "text/plain": [
              "<Figure size 720x360 with 2 Axes>"
            ],
            "image/png": "[encoded data removed]"
          },
          "metadata": {
            "needs_background": "light"
          }
        }
      ],
      "source": [
        "model = Sequential()\n",
        "model.add(Dense(30, activation='relu', input_dim=64))\n",
        "model.add(Dense(20, activation='relu'))\n",
        "model.add(Dropout(0.5))\n",
        "model.add(Dense(12, activation='relu'))\n",
        "model.add(Dense(12, activation='relu'))\n",
        "model.add(Dense(12, activation='relu'))\n",
        "model.add(Dense(8, activation='relu'))\n",
        "model.add(Dense(4, activation='relu'))\n",
        "model.add(Dense(1, activation ='sigmoid'))\n",
        "\n",
        "model.compile(optimizer='adam',\n",
        "              loss='binary_crossentropy',\n",
        "              metrics=['accuracy'])\n",
        "\n",
        "# Define the EarlyStopping object\n",
        "\n",
        "\n",
        "\n",
        "# Place this in a list as the value of the `callbacks` parameter\n",
        "# in the `.fit()` method.\n",
        "results = model.fit(X_pure_train, y_pure_train,\n",
        "                    epochs=50, batch_size= 32,\n",
        "                    verbose=0, validation_data=(X_val, y_val),\n",
        "                    callbacks=[early_stop])\n",
        "\n",
        "train_loss = results.history['loss']\n",
        "train_acc = results.history['accuracy']\n",
        "val_loss = results.history['val_loss']\n",
        "val_acc = results.history['val_accuracy']\n",
        "\n",
        "\n",
        "fig, (ax1, ax2) = plt.subplots(1, 2, figsize=(10, 5))\n",
        "sns.lineplot(x=results.epoch, y=train_loss, ax=ax1, label='train_loss')\n",
        "sns.lineplot(x=results.epoch, y=train_acc, ax=ax2, label='train_accuracy')\n",
        "\n",
        "sns.lineplot(x=results.epoch, y=val_loss, ax=ax1, label='val_loss')\n",
        "sns.lineplot(x=results.epoch, y=val_acc, ax=ax2, label='val_accuracy');"
      ]
    },
    {
      "cell_type": "code",
      "execution_count": 26,
      "metadata": {
        "colab": {
          "base_uri": "https://localhost:8080/",
          "height": 0
        },
        "id": "4dNN8s-uUnC4",
        "outputId": "a12247e1-15bb-4f2c-c6a1-fb134c9fc985"
      },
      "outputs": [
        {
          "output_type": "execute_result",
          "data": {
            "text/plain": [
              "0.4895833432674408"
            ]
          },
          "metadata": {},
          "execution_count": 26
        }
      ],
      "source": [
        "results.history['val_accuracy'][-1]"
      ]
    },
    {
      "cell_type": "markdown",
      "metadata": {
        "id": "ay_IrzVFUnC4"
      },
      "source": [
        "## Multiclass Classification and Softmax"
      ]
    },
    {
      "cell_type": "markdown",
      "metadata": {
        "id": "yKa6YuXhUnC4"
      },
      "source": [
        "Now let's return to the problem of predicting digits 0 through 9."
      ]
    },
    {
      "cell_type": "code",
      "execution_count": 27,
      "metadata": {
        "id": "E0qwPvvOUnC4"
      },
      "outputs": [],
      "source": [
        "digits = load_digits()\n",
        "X = digits.data\n",
        "y = digits.target"
      ]
    },
    {
      "cell_type": "code",
      "execution_count": 28,
      "metadata": {
        "id": "R6E__IecUnC4"
      },
      "outputs": [],
      "source": [
        "X_train, X_test, y_train, y_test = train_test_split(X, y,\n",
        "                                                    random_state=42,\n",
        "                                                    test_size=0.2)\n",
        "X_pure_train, X_val, y_pure_train, y_val =\\\n",
        "    train_test_split(X_train, y_train,\n",
        "                     random_state=42, test_size=0.2)\n",
        "X_pure_train, X_val, X_test = X_pure_train/16, X_val/16, X_test/16"
      ]
    },
    {
      "cell_type": "markdown",
      "metadata": {
        "id": "XmwjXXHIUnC4"
      },
      "source": [
        "For a multiclass output, our neural net expects our target to be in a certain form."
      ]
    },
    {
      "cell_type": "code",
      "execution_count": 29,
      "metadata": {
        "id": "HfXahlAiUnC4"
      },
      "outputs": [],
      "source": [
        "ohe = OneHotEncoder(sparse=False)\n",
        "y_pure_train = ohe.fit_transform(y_pure_train.reshape(-1,1))\n",
        "y_val = ohe.transform(y_val.reshape(-1,1))\n",
        "y_test = ohe.transform(y_test.reshape(-1,1))"
      ]
    },
    {
      "cell_type": "code",
      "execution_count": 30,
      "metadata": {
        "colab": {
          "base_uri": "https://localhost:8080/",
          "height": 0
        },
        "id": "2xwOjx1dUnC4",
        "outputId": "222170d4-6fb5-4db0-bb05-6e8523604fd9"
      },
      "outputs": [
        {
          "output_type": "execute_result",
          "data": {
            "text/plain": [
              "array([[0., 0., 0., ..., 0., 0., 0.],\n",
              "       [0., 0., 0., ..., 0., 0., 1.],\n",
              "       [0., 0., 0., ..., 0., 0., 0.],\n",
              "       ...,\n",
              "       [0., 0., 0., ..., 0., 1., 0.],\n",
              "       [0., 0., 0., ..., 0., 0., 0.],\n",
              "       [0., 0., 0., ..., 0., 0., 0.]])"
            ]
          },
          "metadata": {},
          "execution_count": 30
        }
      ],
      "source": [
        "y_test"
      ]
    },
    {
      "cell_type": "code",
      "execution_count": 31,
      "metadata": {
        "colab": {
          "base_uri": "https://localhost:8080/",
          "height": 0
        },
        "id": "LZPH8aWIUnC4",
        "outputId": "29ca436a-57c3-4422-e47d-396effe84b4a"
      },
      "outputs": [
        {
          "output_type": "stream",
          "name": "stdout",
          "text": [
            "Epoch 1/50\n",
            "115/115 [==============================] - 1s 5ms/step - loss: 2.2266 - accuracy: 0.1593 - val_loss: 2.1491 - val_accuracy: 0.2431\n",
            "Epoch 2/50\n",
            "115/115 [==============================] - 0s 3ms/step - loss: 1.9758 - accuracy: 0.3316 - val_loss: 1.8073 - val_accuracy: 0.3889\n",
            "Epoch 3/50\n",
            "115/115 [==============================] - 0s 4ms/step - loss: 1.6087 - accuracy: 0.4909 - val_loss: 1.4538 - val_accuracy: 0.5660\n",
            "Epoch 4/50\n",
            "115/115 [==============================] - 0s 3ms/step - loss: 1.2541 - accuracy: 0.6327 - val_loss: 1.1262 - val_accuracy: 0.6736\n",
            "Epoch 5/50\n",
            "115/115 [==============================] - 0s 3ms/step - loss: 0.9665 - accuracy: 0.7424 - val_loss: 0.8938 - val_accuracy: 0.7708\n",
            "Epoch 6/50\n",
            "115/115 [==============================] - 0s 3ms/step - loss: 0.7864 - accuracy: 0.7885 - val_loss: 0.7553 - val_accuracy: 0.7882\n",
            "Epoch 7/50\n",
            "115/115 [==============================] - 0s 3ms/step - loss: 0.6694 - accuracy: 0.8085 - val_loss: 0.6384 - val_accuracy: 0.8333\n",
            "Epoch 8/50\n",
            "115/115 [==============================] - 0s 3ms/step - loss: 0.5862 - accuracy: 0.8486 - val_loss: 0.5676 - val_accuracy: 0.8472\n",
            "Epoch 9/50\n",
            "115/115 [==============================] - 0s 3ms/step - loss: 0.5155 - accuracy: 0.8564 - val_loss: 0.4949 - val_accuracy: 0.8785\n",
            "Epoch 10/50\n",
            "115/115 [==============================] - 0s 3ms/step - loss: 0.4577 - accuracy: 0.8799 - val_loss: 0.4341 - val_accuracy: 0.9062\n",
            "Epoch 11/50\n",
            "115/115 [==============================] - 0s 3ms/step - loss: 0.4098 - accuracy: 0.8938 - val_loss: 0.3986 - val_accuracy: 0.9028\n",
            "Epoch 12/50\n",
            "115/115 [==============================] - 0s 3ms/step - loss: 0.3732 - accuracy: 0.9034 - val_loss: 0.3591 - val_accuracy: 0.9236\n",
            "Epoch 13/50\n",
            "115/115 [==============================] - 0s 3ms/step - loss: 0.3391 - accuracy: 0.9156 - val_loss: 0.3426 - val_accuracy: 0.9062\n",
            "Epoch 14/50\n",
            "115/115 [==============================] - 0s 3ms/step - loss: 0.3178 - accuracy: 0.9147 - val_loss: 0.2997 - val_accuracy: 0.9306\n",
            "Epoch 15/50\n",
            "115/115 [==============================] - 0s 3ms/step - loss: 0.2949 - accuracy: 0.9278 - val_loss: 0.2805 - val_accuracy: 0.9306\n",
            "Epoch 16/50\n",
            "115/115 [==============================] - 0s 3ms/step - loss: 0.2707 - accuracy: 0.9304 - val_loss: 0.2641 - val_accuracy: 0.9410\n",
            "Epoch 17/50\n",
            "115/115 [==============================] - 0s 2ms/step - loss: 0.2544 - accuracy: 0.9286 - val_loss: 0.2580 - val_accuracy: 0.9340\n",
            "Epoch 18/50\n",
            "115/115 [==============================] - 0s 3ms/step - loss: 0.2387 - accuracy: 0.9347 - val_loss: 0.2442 - val_accuracy: 0.9375\n",
            "Epoch 19/50\n",
            "115/115 [==============================] - 0s 2ms/step - loss: 0.2282 - accuracy: 0.9382 - val_loss: 0.2242 - val_accuracy: 0.9444\n",
            "Epoch 20/50\n",
            "115/115 [==============================] - 0s 3ms/step - loss: 0.2160 - accuracy: 0.9373 - val_loss: 0.2194 - val_accuracy: 0.9375\n",
            "Epoch 21/50\n",
            "115/115 [==============================] - 0s 3ms/step - loss: 0.2080 - accuracy: 0.9391 - val_loss: 0.2095 - val_accuracy: 0.9444\n",
            "Epoch 22/50\n",
            "115/115 [==============================] - 0s 2ms/step - loss: 0.1957 - accuracy: 0.9443 - val_loss: 0.2088 - val_accuracy: 0.9375\n",
            "Epoch 23/50\n",
            "115/115 [==============================] - 0s 3ms/step - loss: 0.1898 - accuracy: 0.9504 - val_loss: 0.1907 - val_accuracy: 0.9514\n",
            "Epoch 24/50\n",
            "115/115 [==============================] - 0s 3ms/step - loss: 0.1844 - accuracy: 0.9443 - val_loss: 0.1861 - val_accuracy: 0.9514\n",
            "Epoch 25/50\n",
            "115/115 [==============================] - 0s 3ms/step - loss: 0.1763 - accuracy: 0.9530 - val_loss: 0.1802 - val_accuracy: 0.9479\n",
            "Epoch 26/50\n",
            "115/115 [==============================] - 0s 3ms/step - loss: 0.1678 - accuracy: 0.9495 - val_loss: 0.1741 - val_accuracy: 0.9514\n",
            "Epoch 27/50\n",
            "115/115 [==============================] - 0s 3ms/step - loss: 0.1626 - accuracy: 0.9513 - val_loss: 0.1701 - val_accuracy: 0.9583\n",
            "Epoch 28/50\n",
            "115/115 [==============================] - 0s 3ms/step - loss: 0.1590 - accuracy: 0.9478 - val_loss: 0.1690 - val_accuracy: 0.9514\n",
            "Epoch 29/50\n",
            "115/115 [==============================] - 0s 3ms/step - loss: 0.1521 - accuracy: 0.9565 - val_loss: 0.1660 - val_accuracy: 0.9479\n",
            "Epoch 30/50\n",
            "115/115 [==============================] - 0s 3ms/step - loss: 0.1455 - accuracy: 0.9600 - val_loss: 0.1736 - val_accuracy: 0.9444\n",
            "Epoch 31/50\n",
            "115/115 [==============================] - 0s 3ms/step - loss: 0.1456 - accuracy: 0.9617 - val_loss: 0.1547 - val_accuracy: 0.9549\n",
            "Epoch 32/50\n",
            "115/115 [==============================] - 0s 3ms/step - loss: 0.1392 - accuracy: 0.9643 - val_loss: 0.1561 - val_accuracy: 0.9583\n",
            "Epoch 33/50\n",
            "115/115 [==============================] - 0s 3ms/step - loss: 0.1366 - accuracy: 0.9643 - val_loss: 0.1538 - val_accuracy: 0.9583\n",
            "Epoch 34/50\n",
            "115/115 [==============================] - 0s 3ms/step - loss: 0.1307 - accuracy: 0.9634 - val_loss: 0.1442 - val_accuracy: 0.9549\n",
            "Epoch 35/50\n",
            "115/115 [==============================] - 0s 3ms/step - loss: 0.1261 - accuracy: 0.9704 - val_loss: 0.1385 - val_accuracy: 0.9618\n",
            "Epoch 36/50\n",
            "115/115 [==============================] - 0s 3ms/step - loss: 0.1262 - accuracy: 0.9643 - val_loss: 0.1482 - val_accuracy: 0.9618\n",
            "Epoch 37/50\n",
            "115/115 [==============================] - 0s 3ms/step - loss: 0.1194 - accuracy: 0.9695 - val_loss: 0.1447 - val_accuracy: 0.9444\n",
            "Epoch 38/50\n",
            "115/115 [==============================] - 0s 3ms/step - loss: 0.1163 - accuracy: 0.9643 - val_loss: 0.1369 - val_accuracy: 0.9514\n",
            "Epoch 39/50\n",
            "115/115 [==============================] - 0s 3ms/step - loss: 0.1129 - accuracy: 0.9695 - val_loss: 0.1354 - val_accuracy: 0.9514\n",
            "Epoch 40/50\n",
            "115/115 [==============================] - 0s 3ms/step - loss: 0.1129 - accuracy: 0.9695 - val_loss: 0.1283 - val_accuracy: 0.9618\n",
            "Epoch 41/50\n",
            "115/115 [==============================] - 0s 2ms/step - loss: 0.1076 - accuracy: 0.9721 - val_loss: 0.1338 - val_accuracy: 0.9583\n",
            "Epoch 42/50\n",
            "115/115 [==============================] - 0s 2ms/step - loss: 0.1050 - accuracy: 0.9756 - val_loss: 0.1275 - val_accuracy: 0.9583\n",
            "Epoch 43/50\n",
            "115/115 [==============================] - 0s 2ms/step - loss: 0.1018 - accuracy: 0.9739 - val_loss: 0.1234 - val_accuracy: 0.9618\n",
            "Epoch 44/50\n",
            "115/115 [==============================] - 0s 3ms/step - loss: 0.0979 - accuracy: 0.9756 - val_loss: 0.1223 - val_accuracy: 0.9618\n",
            "Epoch 45/50\n",
            "115/115 [==============================] - 0s 3ms/step - loss: 0.0967 - accuracy: 0.9756 - val_loss: 0.1244 - val_accuracy: 0.9653\n",
            "Epoch 46/50\n",
            "115/115 [==============================] - 0s 2ms/step - loss: 0.0941 - accuracy: 0.9774 - val_loss: 0.1242 - val_accuracy: 0.9653\n",
            "Epoch 47/50\n",
            "115/115 [==============================] - 0s 3ms/step - loss: 0.0912 - accuracy: 0.9800 - val_loss: 0.1211 - val_accuracy: 0.9618\n",
            "Epoch 48/50\n",
            "115/115 [==============================] - 0s 3ms/step - loss: 0.0879 - accuracy: 0.9817 - val_loss: 0.1220 - val_accuracy: 0.9653\n",
            "Epoch 49/50\n",
            "115/115 [==============================] - 0s 3ms/step - loss: 0.0884 - accuracy: 0.9765 - val_loss: 0.1138 - val_accuracy: 0.9653\n",
            "Epoch 50/50\n",
            "115/115 [==============================] - 0s 3ms/step - loss: 0.0828 - accuracy: 0.9826 - val_loss: 0.1298 - val_accuracy: 0.9410\n"
          ]
        }
      ],
      "source": [
        "# Model from above, but now with ten output neurons:\n",
        "\n",
        "model = Sequential()\n",
        "model.add(Dense(12, activation='relu', input_dim=64))\n",
        "model.add(Dense(8, activation='relu'))\n",
        "model.add(Dense(10, activation='softmax'))\n",
        "\n",
        "model.compile(optimizer='adam',\n",
        "              loss='categorical_crossentropy',\n",
        "              metrics=['accuracy'])\n",
        "\n",
        "results = model.fit(X_pure_train, y_pure_train,\n",
        "                   epochs=50, batch_size=10,\n",
        "                   validation_data=(X_val, y_val))"
      ]
    },
    {
      "cell_type": "markdown",
      "metadata": {
        "id": "Zpk2jg0tUnC4"
      },
      "source": [
        "$$\\large \\text{Softmax}(x_{i}) = \\frac{\\exp(x_i)}{\\sum_j \\exp(x_j)}$$\n",
        "\n",
        "The sofmax function outputs a number between 0 and 1 for each of our classes.  All of the probabilities of the classes sum up to 1.\n",
        "\n",
        "The number of nodes in our output layer equals the number of categories in our dataset.\n",
        "\n",
        "We also need a new loss function: **categorical crossentropy**, which calculates a separate loss for each label and then sums the results."
      ]
    },
    {
      "cell_type": "code",
      "execution_count": 32,
      "metadata": {
        "id": "-Ul9V9knUnC4"
      },
      "outputs": [],
      "source": [
        "history = results.history\n",
        "training_loss = history['loss']\n",
        "val_loss = history['val_loss']\n",
        "training_accuracy = history['accuracy']\n",
        "val_accuracy = history['val_accuracy']"
      ]
    },
    {
      "cell_type": "code",
      "execution_count": 33,
      "metadata": {
        "colab": {
          "base_uri": "https://localhost:8080/",
          "height": 320
        },
        "id": "bGbGRHCNUnC4",
        "outputId": "6d94aade-3997-41ae-cca7-238d8a48a71f"
      },
      "outputs": [
        {
          "output_type": "display_data",
          "data": {
            "text/plain": [
              "<Figure size 1080x360 with 2 Axes>"
            ],
            "image/png": "[encoded data removed]"
          },
          "metadata": {
            "needs_background": "light"
          }
        }
      ],
      "source": [
        "fig, (ax1,ax2) = plt.subplots(1,2,figsize=(15,5))\n",
        "\n",
        "\n",
        "sns.lineplot(x=list(range(len(training_loss))),\n",
        "             y=training_loss, color='r', label='training', ax=ax1)\n",
        "sns.lineplot(x=list(range(len(val_loss))),\n",
        "             y=val_loss, color='b', label='validation', ax=ax1)\n",
        "sns.lineplot(x=list(range(len(training_loss))),\n",
        "             y=training_accuracy, color='r', label='training',ax=ax2)\n",
        "sns.lineplot(x=list(range(len(val_loss))),\n",
        "             y=val_accuracy, color='b', label='validation',ax=ax2)\n",
        "ax1.legend();"
      ]
    },
    {
      "cell_type": "code",
      "execution_count": 34,
      "metadata": {
        "id": "rMMyuUeUUnC4"
      },
      "outputs": [],
      "source": [
        "y_hat_test = np.argmax(model.predict(X_test), axis=-1)"
      ]
    },
    {
      "cell_type": "code",
      "execution_count": 35,
      "metadata": {
        "colab": {
          "base_uri": "https://localhost:8080/",
          "height": 0
        },
        "id": "ycZ5SqjFUnC5",
        "outputId": "9938cbea-053d-47fb-d8fa-3df18ed917a6"
      },
      "outputs": [
        {
          "output_type": "execute_result",
          "data": {
            "text/plain": [
              "array([[31,  0,  0,  0,  2,  0,  0,  0,  0,  0],\n",
              "       [ 0, 27,  0,  0,  0,  0,  0,  0,  1,  0],\n",
              "       [ 0,  1, 30,  1,  0,  0,  0,  0,  1,  0],\n",
              "       [ 0,  0,  0, 33,  0,  1,  0,  0,  0,  0],\n",
              "       [ 0,  1,  0,  0, 45,  0,  0,  0,  0,  0],\n",
              "       [ 0,  0,  1,  0,  0, 45,  0,  0,  0,  1],\n",
              "       [ 0,  0,  0,  0,  0,  0, 35,  0,  0,  0],\n",
              "       [ 0,  0,  0,  0,  0,  0,  0, 33,  0,  1],\n",
              "       [ 0,  0,  0,  0,  0,  1,  0,  0, 29,  0],\n",
              "       [ 0,  0,  0,  4,  0,  0,  0,  1,  0, 35]])"
            ]
          },
          "metadata": {},
          "execution_count": 35
        }
      ],
      "source": [
        "y_test_restore = ohe.inverse_transform(y_test)\n",
        "confusion_matrix(y_test_restore, y_hat_test)"
      ]
    },
    {
      "cell_type": "markdown",
      "metadata": {
        "id": "ow7YstncUnC5"
      },
      "source": [
        "Wow, look at that performance!  \n",
        "\n",
        "That is great, but remember, we were dealing with simple black and white images.  With color, our basic neural net will have less success.\n",
        "\n",
        "We will explore more advanced tools in the coming days.\n"
      ]
    },
    {
      "cell_type": "markdown",
      "metadata": {
        "id": "EdZDyJfARV8l"
      },
      "source": [
        ""
      ]
    }
  ],
  "metadata": {
    "celltoolbar": "Raw Cell Format",
    "colab": {
      "collapsed_sections": [],
      "name": "network_regularization_and_evaluation.ipynb",
      "provenance": [],
      "include_colab_link": true
    },
    "kernelspec": {
      "display_name": "Python 3",
      "language": "python",
      "name": "python3"
    },
    "language_info": {
      "codemirror_mode": {
        "name": "ipython",
        "version": 3
      },
      "file_extension": ".py",
      "mimetype": "text/x-python",
      "name": "python",
      "nbconvert_exporter": "python",
      "pygments_lexer": "ipython3",
      "version": "3.7.2"
    }
  },
  "nbformat": 4,
  "nbformat_minor": 0
}